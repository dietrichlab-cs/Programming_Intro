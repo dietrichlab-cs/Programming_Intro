{
 "cells": [
  {
   "metadata": {},
   "cell_type": "markdown",
   "source": [
    "### Exercise 1: Operations\n",
    "a) Write a function that checks if a given number is even or odd and returns the answer as boolean.\n",
    "\n",
    "b) Write a function that checks if a given number is a prime number and returns the answer as boolean.\n",
    "\n",
    "c) Write a function that has three parameters \"(float) num1\", \"(float) num2\" and \"(string) operation\" that has the functionality of a basic calculator and performes the calculation:\n",
    "num1 operation num2 = output"
   ],
   "id": "840887565085c80b"
  },
  {
   "metadata": {
    "ExecuteTime": {
     "end_time": "2024-09-09T10:04:04.224290Z",
     "start_time": "2024-09-09T10:04:04.220547Z"
    }
   },
   "cell_type": "code",
   "source": [
    "#a)\n",
    "def is_even(num):\n",
    "    return num % 2 == 0\n",
    "\n",
    "#b)\n",
    "def is_prime(num):\n",
    "    if num < 2:\n",
    "        return False\n",
    "    for i in range(2,num):\n",
    "        if num%i == 0:\n",
    "            return False\n",
    "    return True\n",
    "\n",
    "#c)\n",
    "\n",
    "def calculator(num1, num2, operation):\n",
    "    if operation == \"+\":\n",
    "        return num1 + num2\n",
    "    elif operation == \"-\":\n",
    "        return num1 - num2\n",
    "    elif operation == \"*\":\n",
    "        return num1 * num2\n",
    "    elif operation == \"/\":\n",
    "        return num1 / num2\n",
    "    else:\n",
    "        return \"Invalid operation\""
   ],
   "id": "c44d0cd051725651",
   "outputs": [],
   "execution_count": 7
  },
  {
   "metadata": {},
   "cell_type": "markdown",
   "source": [
    "### Exercise 2: String Manipulation\n",
    "\n",
    "a) Write a Python program that finds the largest number in a list. (Without using the max() function\n",
    "\n",
    "b) Write a Python program that finds the smallest number in a list.\n",
    "(Whithout using the min() function)\n",
    "\n",
    "c) Write a Python program that removes duplicates from a list. (Without using the set() function and without using sets at all or the dictionary data type and similar)"
   ],
   "id": "faa1088e7222e284"
  },
  {
   "metadata": {
    "ExecuteTime": {
     "end_time": "2024-09-09T10:09:16.358131Z",
     "start_time": "2024-09-09T10:09:16.353516Z"
    }
   },
   "cell_type": "code",
   "source": [
    "#a)\n",
    "\n",
    "def largest_number(lst):\n",
    "    largest = lst[0]\n",
    "    for i in lst:\n",
    "        if i > largest:\n",
    "            largest = i\n",
    "    return largest\n",
    "\n",
    "#b)\n",
    "\n",
    "def smallest_number(lst):\n",
    "    smallest = lst[0]\n",
    "    for i in lst:\n",
    "        if i < smallest:\n",
    "            smallest = i\n",
    "    return smallest\n",
    "\n",
    "#c)\n",
    "\n",
    "def remove_duplicates(lst):\n",
    "    element_list = []\n",
    "    for e in lst:\n",
    "        if e not in element_list:\n",
    "            element_list.append(e)\n",
    "    return element_list    \n",
    "    \n",
    "        "
   ],
   "id": "401a0b401c7090ef",
   "outputs": [],
   "execution_count": 12
  },
  {
   "metadata": {},
   "cell_type": "markdown",
   "source": [
    "### Exercise 3: String Manipulation \n",
    "\n",
    "a) Writes two python functions that encode and decode a text using the Caesar cipher. The Caesar cipher is a simple substitution cipher in which each letter of the plain text is substituted with a letter found by moving n places down the alphabet. For example with a shift of 1, A would be replaced by B, B would become C, and so on. The method is apparently named after Julius Caesar, who apparently used it to communicate with his officials. Caesar ciphers can use any integer value as a shift.\n",
    "\n",
    "b) Write a Python program that counts the number of vowels in a given string.\n"
   ],
   "id": "15de647b4130a4d"
  },
  {
   "metadata": {
    "ExecuteTime": {
     "end_time": "2024-09-09T10:23:21.831899Z",
     "start_time": "2024-09-09T10:23:21.826228Z"
    }
   },
   "cell_type": "code",
   "source": [
    "#a)\n",
    "\n",
    "def encode(input,shift=30):\n",
    "    output = \"\"\n",
    "    # number of unicode characters\n",
    "    n = 154998\n",
    "    for i in input:\n",
    "        o = (ord(i) + shift) % n\n",
    "        output += chr(o)\n",
    "    return output\n",
    "\n",
    "def decode(input,shift=30):\n",
    "    output = \"\"\n",
    "    # number of unicode characters\n",
    "    n = 154998\n",
    "    for i in input:\n",
    "        o = (ord(i) - shift) % n\n",
    "        output += chr(o)\n",
    "    return output\n",
    "\n",
    "encoding = encode(\"Hallo,Welt!\")\n",
    "print(encoding)\n",
    "decoding = decode(encoding)\n",
    "print(decoding)\n",
    "\n",
    "#b)\n",
    "\n",
    "def count_vowels(string):\n",
    "    vowels = \"aeiou\"\n",
    "    count = 0\n",
    "    string = string.lower()\n",
    "    for i in string:\n",
    "        if i in vowels:\n",
    "            count += 1\n",
    "    return count\n",
    "\n",
    "str1 = \"Hello, World!\"\n",
    "print(count_vowels(str1))\n"
   ],
   "id": "d31e5f4e77e61412",
   "outputs": [
    {
     "name": "stdout",
     "output_type": "stream",
     "text": [
      "fJu?\n",
      "Hallo,Welt!\n",
      "3\n"
     ]
    }
   ],
   "execution_count": 70
  },
  {
   "metadata": {},
   "cell_type": "markdown",
   "source": [
    "### Exercise 4: Functions and Recursion\n",
    "\n",
    "a) Write a Python function that calculates the factorial of a number (a non-negative integer). The function should take the number as an argument and return the factorial.\n",
    "\n",
    "b) Use dynamic programming to Given a staircase with n steps. Determine the number of possible ways to climb the stairs if you can take either 1, 2 or 3 steps at a time."
   ],
   "id": "8afbfa15794fdbff"
  },
  {
   "metadata": {
    "ExecuteTime": {
     "end_time": "2024-09-09T10:34:49.292254Z",
     "start_time": "2024-09-09T10:34:49.286525Z"
    }
   },
   "cell_type": "code",
   "source": [
    "# a) \n",
    "def factorial(n):\n",
    "    if n == 0:\n",
    "        return 1\n",
    "    else:\n",
    "        return n * factorial(n-1)\n",
    "    \n",
    "# b)\n",
    "\n",
    "def staircase(n):\n",
    "    \n",
    "    possible_ways = [1]\n",
    "    for i in range(1,n+1):\n",
    "        if i == 1:\n",
    "            possible_ways.append(possible_ways[i-1])\n",
    "        elif i == 2:\n",
    "            possible_ways.append(possible_ways[i-1] + possible_ways[i-2])\n",
    "        elif i == 3:\n",
    "            possible_ways.append(possible_ways[i-1] + possible_ways[i-2] + possible_ways[i-3])\n",
    "        else:\n",
    "            possible_ways.append(possible_ways[i-1] + possible_ways[i-2] +possible_ways[i-3])\n",
    "        \n",
    "    return possible_ways\n",
    "\n",
    "staircase(16)\n",
    "    "
   ],
   "id": "2007954f3fa77392",
   "outputs": [
    {
     "data": {
      "text/plain": [
       "[1, 1, 2, 4, 7, 13, 24, 44, 81, 149, 274, 504, 927, 1705, 3136, 5768, 10609]"
      ]
     },
     "execution_count": 91,
     "metadata": {},
     "output_type": "execute_result"
    }
   ],
   "execution_count": 91
  }
 ],
 "metadata": {
  "kernelspec": {
   "display_name": "Python 3",
   "language": "python",
   "name": "python3"
  },
  "language_info": {
   "codemirror_mode": {
    "name": "ipython",
    "version": 2
   },
   "file_extension": ".py",
   "mimetype": "text/x-python",
   "name": "python",
   "nbconvert_exporter": "python",
   "pygments_lexer": "ipython2",
   "version": "2.7.6"
  }
 },
 "nbformat": 4,
 "nbformat_minor": 5
}
