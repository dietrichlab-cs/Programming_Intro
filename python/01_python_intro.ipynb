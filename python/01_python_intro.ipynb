{
 "cells": [
  {
   "cell_type": "markdown",
   "id": "1ec42645-5a84-4a8d-9f00-888effa41c9b",
   "metadata": {
    "ExecuteTime": {
     "end_time": "2024-11-15T11:49:31.057050Z",
     "start_time": "2024-11-15T11:49:31.051049Z"
    },
    "collapsed": true,
    "jupyter": {
     "outputs_hidden": true
    }
   },
   "source": [
    "# Operations"
   ]
  },
  {
   "cell_type": "code",
   "execution_count": 58,
   "id": "71aeb711-421a-41c8-aaff-a43a1f49c969",
   "metadata": {
    "scrolled": true
   },
   "outputs": [
    {
     "data": {
      "text/plain": [
       "3.0"
      ]
     },
     "execution_count": 58,
     "metadata": {},
     "output_type": "execute_result"
    }
   ],
   "source": [
    "# Standard arithmetic + - / *\n",
    "6 / 2"
   ]
  },
  {
   "cell_type": "code",
   "execution_count": 63,
   "id": "c6c37ae0-b1c3-4fe1-8905-21a831eb0012",
   "metadata": {
    "scrolled": true
   },
   "outputs": [
    {
     "data": {
      "text/plain": [
       "21"
      ]
     },
     "execution_count": 63,
     "metadata": {},
     "output_type": "execute_result"
    }
   ],
   "source": [
    "# order of operations\n",
    "4*4+5"
   ]
  },
  {
   "cell_type": "code",
   "execution_count": 120,
   "id": "42430ac1-cf98-4102-b39a-a0c793f618bd",
   "metadata": {
    "scrolled": true
   },
   "outputs": [
    {
     "data": {
      "text/plain": [
       "2"
      ]
     },
     "execution_count": 120,
     "metadata": {},
     "output_type": "execute_result"
    }
   ],
   "source": [
    "# some division magic\n",
    "5 // 2"
   ]
  },
  {
   "cell_type": "markdown",
   "id": "6040f08f-7238-431a-ae09-c5a24f85af25",
   "metadata": {},
   "source": [
    "# Datatypes and Variables"
   ]
  },
  {
   "cell_type": "code",
   "execution_count": 67,
   "id": "029ba35e-b2a9-4992-bc50-902c2b6d43c8",
   "metadata": {},
   "outputs": [
    {
     "data": {
      "text/plain": [
       "5"
      ]
     },
     "execution_count": 67,
     "metadata": {},
     "output_type": "execute_result"
    }
   ],
   "source": [
    "# assign a variable\n",
    "x = 5\n",
    "x"
   ]
  },
  {
   "cell_type": "code",
   "execution_count": 69,
   "id": "cc6b1e5f-d6cb-4f3e-b0a1-e5a2e42d0383",
   "metadata": {
    "scrolled": true
   },
   "outputs": [
    {
     "data": {
      "text/plain": [
       "True"
      ]
     },
     "execution_count": 69,
     "metadata": {},
     "output_type": "execute_result"
    }
   ],
   "source": [
    "# Datatypes (string, number, boolean)\n",
    "x = True\n",
    "x"
   ]
  },
  {
   "cell_type": "code",
   "execution_count": null,
   "id": "183ac6f1-7ade-478e-9848-0539f0769efd",
   "metadata": {
    "scrolled": true
   },
   "outputs": [],
   "source": [
    "# Operations on datatypes\n",
    "x = \"String\" + 5\n",
    "x"
   ]
  },
  {
   "cell_type": "code",
   "execution_count": 79,
   "id": "1de7cb1c-4a5d-47b9-b8ca-157bcd0907f8",
   "metadata": {},
   "outputs": [
    {
     "data": {
      "text/plain": [
       "'Stringconcatenate'"
      ]
     },
     "execution_count": 79,
     "metadata": {},
     "output_type": "execute_result"
    }
   ],
   "source": [
    "# Operations on variables\n",
    "x = \"String\"\n",
    "y = \"concatenate\"\n",
    "z = x + y\n",
    "z"
   ]
  },
  {
   "cell_type": "markdown",
   "id": "884ee60d-17eb-4db4-a278-5c57e49065a1",
   "metadata": {},
   "source": [
    "# Functions"
   ]
  },
  {
   "cell_type": "code",
   "execution_count": 82,
   "id": "de1dca3b-047e-479d-a4f5-a4007fdc48e0",
   "metadata": {},
   "outputs": [],
   "source": [
    "# Declare a function\n",
    "def addition(x, y):\n",
    "    return x + y   "
   ]
  },
  {
   "cell_type": "code",
   "execution_count": 83,
   "id": "5d11fef7-f28f-4529-b074-fc42c1c15a34",
   "metadata": {},
   "outputs": [
    {
     "data": {
      "text/plain": [
       "7"
      ]
     },
     "execution_count": 83,
     "metadata": {},
     "output_type": "execute_result"
    }
   ],
   "source": [
    "# use the function\n",
    "addition(2, 5)"
   ]
  },
  {
   "cell_type": "markdown",
   "id": "9a21cc22-b27e-431d-93e9-7da7bd2b07bd",
   "metadata": {},
   "source": [
    "### Build in functions"
   ]
  },
  {
   "cell_type": "code",
   "execution_count": 86,
   "id": "fda5f7b8-37fd-4f80-8b1b-a1845d5f948f",
   "metadata": {},
   "outputs": [
    {
     "name": "stdout",
     "output_type": "stream",
     "text": [
      "Hello World\n"
     ]
    }
   ],
   "source": [
    "# print output to the console\n",
    "print(\"Hello World\")"
   ]
  },
  {
   "cell_type": "code",
   "execution_count": 87,
   "id": "7046e9a6-63c1-4db6-90fa-593f340ee7c3",
   "metadata": {},
   "outputs": [
    {
     "name": "stdout",
     "output_type": "stream",
     "text": [
      "5\n"
     ]
    }
   ],
   "source": [
    "# mathematical functions and function chaining\n",
    "print(max(3, 5))"
   ]
  },
  {
   "cell_type": "code",
   "execution_count": 88,
   "id": "6cefa7e6-320a-468a-b0c1-0638c6387e80",
   "metadata": {
    "scrolled": true
   },
   "outputs": [
    {
     "name": "stdout",
     "output_type": "stream",
     "text": [
      "4\n"
     ]
    }
   ],
   "source": [
    "# functions without return type\n",
    "def print_square(x):\n",
    "    print(x*x)\n",
    "\n",
    "print_square(2)"
   ]
  },
  {
   "cell_type": "markdown",
   "id": "62a0af8b-7e1a-4c3e-a558-088af76db412",
   "metadata": {},
   "source": [
    "# Collections (List, Set, Dictionary)"
   ]
  },
  {
   "cell_type": "code",
   "execution_count": 89,
   "id": "84fc515e-d478-43eb-9cf9-4fd5d85b6a04",
   "metadata": {},
   "outputs": [
    {
     "data": {
      "text/plain": [
       "[1, 2, 3, 3]"
      ]
     },
     "execution_count": 89,
     "metadata": {},
     "output_type": "execute_result"
    }
   ],
   "source": [
    "# list of values\n",
    "[1, 2, 3, 3]"
   ]
  },
  {
   "cell_type": "code",
   "execution_count": 90,
   "id": "9e57a889-0652-40e1-a449-29c20e5905c9",
   "metadata": {
    "scrolled": true
   },
   "outputs": [
    {
     "name": "stdout",
     "output_type": "stream",
     "text": [
      "[1, 2, 3, 3]\n"
     ]
    }
   ],
   "source": [
    "# assign to variable\n",
    "list_of_values = [1,2,3,3]\n",
    "print(list_of_values)"
   ]
  },
  {
   "cell_type": "code",
   "execution_count": 91,
   "id": "91e7ad21-1d98-460f-aa2a-7a4ab830f824",
   "metadata": {
    "scrolled": true
   },
   "outputs": [
    {
     "name": "stdout",
     "output_type": "stream",
     "text": [
      "1\n",
      "[2, 3, 3]\n"
     ]
    }
   ],
   "source": [
    "# access elements\n",
    "# single value\n",
    "print(list_of_values[0])\n",
    "# slice of list\n",
    "print(list_of_values[1:])\n",
    "# modify element\n",
    "list_of_values[1] = 5\n",
    "# append element\n",
    "list_of_values.append(6)"
   ]
  },
  {
   "metadata": {},
   "cell_type": "code",
   "outputs": [],
   "execution_count": null,
   "source": [
    "# tuple -> immutable lists\n",
    "tuple_of_values = (1,2,3,4,5)\n",
    "print(tuple_of_values)\n",
    "# access value\n",
    "print(tuple_of_values[1])\n",
    "# immutability\n",
    "tuple_of_values[1] = 10"
   ],
   "id": "339af47db4d93fa1"
  },
  {
   "cell_type": "code",
   "execution_count": 92,
   "id": "eefcae6f-83e3-4da1-b943-647aa6c6ff3e",
   "metadata": {},
   "outputs": [
    {
     "name": "stdout",
     "output_type": "stream",
     "text": [
      "{1, 2, 3}\n",
      "3\n"
     ]
    }
   ],
   "source": [
    "# set -> no duplicates\n",
    "set_of_values = set([1,2,3,3])\n",
    "print(set_of_values)\n",
    "print(len(set_of_values))"
   ]
  },
  {
   "cell_type": "code",
   "execution_count": 93,
   "id": "bbbc1e34-ebe0-41ca-b553-58fe0a523d87",
   "metadata": {},
   "outputs": [
    {
     "name": "stdout",
     "output_type": "stream",
     "text": [
      "{'key1': 1, 'key2': 2}\n",
      "1\n",
      "dict_keys(['key1', 'key2'])\n"
     ]
    }
   ],
   "source": [
    "# dictionary -> key-value pairs\n",
    "dictionary = {\"key1\": 1, \"key2\": 2}\n",
    "print(dictionary)\n",
    "print(dictionary[\"key1\"])\n",
    "print(dictionary.keys())"
   ]
  },
  {
   "cell_type": "markdown",
   "id": "a9667cf0-8962-41d1-8d28-09dcf1711201",
   "metadata": {},
   "source": [
    "# Logic\n",
    "* equality\n",
    "* logical operators (and, or, not, ...)\n",
    "* if-statements"
   ]
  },
  {
   "cell_type": "code",
   "execution_count": 96,
   "id": "667fac6d-6064-48ac-a9b1-3c74c5578640",
   "metadata": {},
   "outputs": [
    {
     "name": "stdout",
     "output_type": "stream",
     "text": [
      "True\n",
      "False\n",
      "True\n"
     ]
    }
   ],
   "source": [
    "# equality\n",
    "print(5 == 5)\n",
    "print(5 == \"5\")\n",
    "print(5 != \"5\")"
   ]
  },
  {
   "cell_type": "code",
   "execution_count": 97,
   "id": "e0e0cde7-5a25-4e07-9b45-46f0d135cfe2",
   "metadata": {
    "scrolled": true
   },
   "outputs": [
    {
     "name": "stdout",
     "output_type": "stream",
     "text": [
      "Op1: False\n",
      "Op2: True\n"
     ]
    }
   ],
   "source": [
    "# logical operators\n",
    "statement1 = 3 < 5\n",
    "statement2 = 3 > 5\n",
    "\n",
    "print(\"Op1:\", statement1 and statement2)\n",
    "print(\"Op2:\", statement1 or statement2)"
   ]
  },
  {
   "cell_type": "code",
   "execution_count": 125,
   "id": "0f74ac06-2595-44d3-a105-8e893d29ab39",
   "metadata": {},
   "outputs": [
    {
     "name": "stdout",
     "output_type": "stream",
     "text": [
      "True\n"
     ]
    }
   ],
   "source": [
    "# order of logical operators and brackets\n",
    "print(not (True and False))"
   ]
  },
  {
   "cell_type": "code",
   "execution_count": 100,
   "id": "956cd566-c2ee-491a-ad69-cee2b4f4d755",
   "metadata": {},
   "outputs": [
    {
     "name": "stdout",
     "output_type": "stream",
     "text": [
      "x = 5 is larger or equals to 3\n"
     ]
    }
   ],
   "source": [
    "# control flow\n",
    "x = 5\n",
    "if x >= 3:\n",
    "    print(\"x =\", x, \"is larger or equals to 3\")\n",
    "else:\n",
    "    print(\"x =\", x, \"is smaller than 3\")   "
   ]
  },
  {
   "cell_type": "code",
   "execution_count": 127,
   "id": "d8970e35-cb6e-4cde-8dc5-9583c7078e3d",
   "metadata": {},
   "outputs": [
    {
     "name": "stdout",
     "output_type": "stream",
     "text": [
      "x = 5 is larger than 3\n"
     ]
    }
   ],
   "source": [
    "# chaining if statements\n",
    "x = 5\n",
    "if x > 3:\n",
    "    print(\"x =\", x, \"is larger than 3\")\n",
    "elif x == 3:\n",
    "    print(\"x =\", x, \"is equal to 3\")\n",
    "else:\n",
    "    print(\"x =\", x, \"is smaller than 3\")"
   ]
  },
  {
   "cell_type": "markdown",
   "id": "bd786687-e55d-4780-9b03-c34d82159c80",
   "metadata": {},
   "source": [
    "# Loops"
   ]
  },
  {
   "cell_type": "code",
   "execution_count": 103,
   "id": "e49068d0-f24a-4508-be14-e5f1c83fd48f",
   "metadata": {},
   "outputs": [
    {
     "name": "stdout",
     "output_type": "stream",
     "text": [
      "[1, 2, 3, 3]\n"
     ]
    }
   ],
   "source": [
    "print(list_of_values)"
   ]
  },
  {
   "cell_type": "code",
   "execution_count": 104,
   "id": "8edb6dfd-3f24-475d-922a-5819e125ed35",
   "metadata": {},
   "outputs": [
    {
     "name": "stdout",
     "output_type": "stream",
     "text": [
      "List contains value 1\n",
      "List contains value 2\n",
      "List contains value 3\n",
      "List contains value 3\n"
     ]
    }
   ],
   "source": [
    "# for-each loop\n",
    "for value in list_of_values:\n",
    "    print(\"List contains value\", value)"
   ]
  },
  {
   "cell_type": "code",
   "execution_count": 106,
   "id": "07248125-ea3b-48bf-8577-d70dc4c6b56a",
   "metadata": {},
   "outputs": [
    {
     "name": "stdout",
     "output_type": "stream",
     "text": [
      "List contains value 1\n",
      "List contains value 2\n",
      "List contains value 3\n",
      "List contains value 3\n"
     ]
    }
   ],
   "source": [
    "# for-i loop\n",
    "for i in range(len(list_of_values)):\n",
    "    print(\"List contains value\", list_of_values[i])"
   ]
  },
  {
   "cell_type": "code",
   "execution_count": 108,
   "id": "2b62b9bf-d05b-4121-b0ba-d91f7067366f",
   "metadata": {},
   "outputs": [
    {
     "name": "stdout",
     "output_type": "stream",
     "text": [
      "List contains value 1 at index 0\n",
      "List contains value 2 at index 1\n",
      "List contains value 3 at index 2\n",
      "List contains value 3 at index 3\n"
     ]
    }
   ],
   "source": [
    "# for-each loop enumeration\n",
    "for i, value in enumerate(list_of_values):\n",
    "    print(\"List contains value\", value, \"at index\", i)"
   ]
  },
  {
   "cell_type": "code",
   "execution_count": 113,
   "id": "f638f658-e094-4ac7-a063-961da73ed160",
   "metadata": {
    "scrolled": true
   },
   "outputs": [
    {
     "name": "stdout",
     "output_type": "stream",
     "text": [
      "Input: [1, 2, 3, 3]\n",
      "Output: [2, 4, 6, 6]\n"
     ]
    }
   ],
   "source": [
    "# generator\n",
    "print(\"Input:\", list_of_values)\n",
    "output = [value*2 for value in list_of_values]\n",
    "print(\"Output:\", output)"
   ]
  },
  {
   "cell_type": "code",
   "execution_count": 114,
   "id": "f066e6c9-5690-4daf-a07b-8182adbb3411",
   "metadata": {
    "scrolled": true
   },
   "outputs": [
    {
     "name": "stdout",
     "output_type": "stream",
     "text": [
      "Output: [2, 4, 6, 6]\n"
     ]
    }
   ],
   "source": [
    "# equivalent\n",
    "output_list = []\n",
    "for value in list_of_values:\n",
    "    output_list.append(value*2)\n",
    "print(\"Output:\", output_list)"
   ]
  },
  {
   "cell_type": "code",
   "execution_count": 117,
   "id": "0c70aeeb-187d-4a1b-b9f5-f26b14612462",
   "metadata": {},
   "outputs": [
    {
     "name": "stdout",
     "output_type": "stream",
     "text": [
      "New loop iteration 0\n",
      "New loop iteration 1\n",
      "New loop iteration 2\n",
      "New loop iteration 3\n",
      "New loop iteration 4\n",
      "New loop iteration 5\n",
      "New loop iteration 6\n",
      "New loop iteration 7\n",
      "New loop iteration 8\n",
      "New loop iteration 9\n"
     ]
    }
   ],
   "source": [
    "# while loop\n",
    "counter = 0\n",
    "while(counter < 10):\n",
    "    print(\"New loop iteration\", counter)\n",
    "    counter = counter + 1"
   ]
  }
 ],
 "metadata": {
  "kernelspec": {
   "display_name": "Python 3 (ipykernel)",
   "language": "python",
   "name": "python3"
  },
  "language_info": {
   "codemirror_mode": {
    "name": "ipython",
    "version": 3
   },
   "file_extension": ".py",
   "mimetype": "text/x-python",
   "name": "python",
   "nbconvert_exporter": "python",
   "pygments_lexer": "ipython3",
   "version": "3.10.1"
  }
 },
 "nbformat": 4,
 "nbformat_minor": 5
}
