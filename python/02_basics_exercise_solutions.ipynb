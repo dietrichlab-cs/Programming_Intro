{
 "cells": [
  {
   "cell_type": "markdown",
   "id": "840887565085c80b",
   "metadata": {},
   "source": [
    "### Exercise 1: Operations\n",
    "a) Write a function that checks if a given number is even or odd and returns the answer as boolean.\n",
    "\n",
    "b) Write a function that checks if a given number is a prime number and returns the answer as boolean.\n",
    "\n",
    "c) Write a function that has three parameters \"(float) num1\", \"(float) num2\" and \"(string) operation\" that has the functionality of a basic calculator and performes the calculation:\n",
    "num1 operation num2 = output"
   ]
  },
  {
   "cell_type": "code",
   "execution_count": 7,
   "id": "c44d0cd051725651",
   "metadata": {
    "ExecuteTime": {
     "end_time": "2024-09-09T10:04:04.224290Z",
     "start_time": "2024-09-09T10:04:04.220547Z"
    }
   },
   "outputs": [],
   "source": [
    "#a)\n",
    "def is_even(num):\n",
    "    return num % 2 == 0\n",
    "\n",
    "#b)\n",
    "def is_prime(num):\n",
    "    if num < 2:\n",
    "        return False\n",
    "    elif num == 2:\n",
    "        return True\n",
    "    for i in range(2,num):\n",
    "        if num%i == 0:\n",
    "            return False\n",
    "    return True\n",
    "\n",
    "#c)\n",
    "def calculator(num1, num2, operation):\n",
    "    if operation == \"+\":\n",
    "        return num1 + num2\n",
    "    elif operation == \"-\":\n",
    "        return num1 - num2\n",
    "    elif operation == \"*\":\n",
    "        return num1 * num2\n",
    "    elif operation == \"/\":\n",
    "        return num1 / num2\n",
    "    else:\n",
    "        return \"Invalid operation\""
   ]
  },
  {
   "cell_type": "markdown",
   "id": "faa1088e7222e284",
   "metadata": {},
   "source": [
    "### Exercise 2: String Manipulation\n",
    "\n",
    "a) Write a Python program that finds the largest number in a list. (Without using the max() function)\n",
    "\n",
    "b) Write a Python program that finds the smallest number in a list.\n",
    "(Whithout using the min() function)\n",
    "\n",
    "c) Write a Python program that removes duplicates from a list. (Without using the set() function and without using sets at all or the dictionary data type and similar)"
   ]
  },
  {
   "cell_type": "code",
   "execution_count": 12,
   "id": "401a0b401c7090ef",
   "metadata": {
    "ExecuteTime": {
     "end_time": "2024-09-09T10:09:16.358131Z",
     "start_time": "2024-09-09T10:09:16.353516Z"
    }
   },
   "outputs": [],
   "source": [
    "#a)\n",
    "\n",
    "def largest_number(lst):\n",
    "    largest = lst[0]\n",
    "    for i in lst:\n",
    "        if i > largest:\n",
    "            largest = i\n",
    "    return largest\n",
    "\n",
    "#b)\n",
    "\n",
    "def smallest_number(lst):\n",
    "    smallest = lst[0]\n",
    "    for i in lst:\n",
    "        if i < smallest:\n",
    "            smallest = i\n",
    "    return smallest\n",
    "\n",
    "#c)\n",
    "\n",
    "def remove_duplicates(lst):\n",
    "    element_list = []\n",
    "    for e in lst:\n",
    "        if e not in element_list:\n",
    "            element_list.append(e)\n",
    "    return element_list    \n",
    "    \n",
    "        "
   ]
  },
  {
   "cell_type": "markdown",
   "id": "15de647b4130a4d",
   "metadata": {},
   "source": [
    "### Exercise 3: String Manipulation \n",
    "\n",
    "a) Writes two python functions that encode and decode a text using the Caesar cipher. The Caesar cipher is a simple substitution cipher in which each letter of the plain text is substituted with a letter found by moving n places down the alphabet. For example with a shift of 1, A would be replaced by B, B would become C, and so on. The method is apparently named after Julius Caesar, who apparently used it to communicate with his officials. Caesar ciphers can use any integer value as a shift. \\\n",
    "HINT: if you use an alphabet assume characters not present should just remain the same, if you use unicode, all unicode chars are valid for shift.\n",
    "\n",
    "b) Write a Python program that counts the number of vowels in a given string.\n"
   ]
  },
  {
   "cell_type": "code",
   "id": "d31e5f4e77e61412",
   "metadata": {
    "ExecuteTime": {
     "end_time": "2024-11-15T17:25:54.970751Z",
     "start_time": "2024-11-15T17:25:54.946734Z"
    }
   },
   "source": [
    "#a)\n",
    "\n",
    "def encode_unicode(input, shift=30):\n",
    "    output = \"\"\n",
    "    # number of unicode characters\n",
    "    n = 154998\n",
    "    for i in input:\n",
    "        o = (ord(i) + shift) % n\n",
    "        output += chr(o)\n",
    "    return output\n",
    "\n",
    "def encode_alphabet(input, shift=30):\n",
    "    alphabet = \"abcdefghijklmnopqrstuvwxyz\"\n",
    "    lower_case_input = input.lower()\n",
    "    output = \"\"\n",
    "    # length of alphabet\n",
    "    n = len(alphabet)\n",
    "    for character in lower_case_input:\n",
    "        if character not in alphabet: output += character\n",
    "        else:\n",
    "            idx = alphabet.index(character)\n",
    "            idx = (idx + shift) % n\n",
    "            output += alphabet[idx]\n",
    "    return output\n",
    "\n",
    "def decode_unicode(input, shift=30):\n",
    "    output = \"\"\n",
    "    # number of unicode characters\n",
    "    n = 154998\n",
    "    for i in input:\n",
    "        o = (ord(i) - shift) % n\n",
    "        output += chr(o)\n",
    "    return output\n",
    "\n",
    "def decode_alphabet(input, shift=30):\n",
    "    alphabet = \"abcdefghijklmnopqrstuvwxyz\"\n",
    "    lower_case_input = input.lower()\n",
    "    output = \"\"\n",
    "    # length of alphabet\n",
    "    n = len(alphabet)\n",
    "    for character in lower_case_input:\n",
    "        if character not in alphabet: output += character\n",
    "        else:\n",
    "            idx = alphabet.index(character)\n",
    "            idx = (idx - shift) % n\n",
    "            output += alphabet[idx]\n",
    "    return output\n",
    "\n",
    "encoding_unicode = encode_unicode(\"Hallo,Welt!\")\n",
    "print(encoding_unicode)\n",
    "decoding_unicode = decode_unicode(encoding_unicode)\n",
    "print(decoding_unicode)\n",
    "\n",
    "\n",
    "encoding_alphabet = encode_alphabet(\"Hallo,Welt!\")\n",
    "print(encoding_alphabet)\n",
    "decoding_alphabet = decode_alphabet(encoding_unicode)\n",
    "print(decoding_alphabet)\n",
    "\n",
    "#b)\n",
    "\n",
    "def count_vowels(string):\n",
    "    vowels = \"aeiou\"\n",
    "    count = 0\n",
    "    string = string.lower()\n",
    "    for i in string:\n",
    "        if i in vowels:\n",
    "            count += 1\n",
    "    return count\n",
    "\n",
    "str1 = \"Hello, World!\"\n",
    "print(count_vowels(str1))\n"
   ],
   "outputs": [
    {
     "name": "stdout",
     "output_type": "stream",
     "text": [
      "fJu?\n",
      "Hallo,Welt!\n",
      "lepps,aipx!\n",
      "bfq?\n",
      "3\n"
     ]
    }
   ],
   "execution_count": 1
  },
  {
   "cell_type": "markdown",
   "id": "8afbfa15794fdbff",
   "metadata": {},
   "source": [
    "### Exercise 4: Functions and Recursion\n",
    "\n",
    "a) Write a Python function that calculates the factorial of a number (a non-negative integer). The function should take the number as an argument and return the factorial. The factorial of a number n is the product of all numbers from 1 up to and including n.\n",
    "\n",
    "b) Use dynamic programming for this problem: Given a staircase with n steps. Determine the number of possible ways to climb the stairs if you can take either 1, 2 or 3 steps at a time.\n",
    "Take also step 0 into account, i.e. climbing a stair with 0 steps has 1 possible way.\n",
    "HINT: Dynamic programming involves iterating all possible scenarios with recursion. Start by thinking of way to climb a single stair, then 2, then n > 2."
   ]
  },
  {
   "cell_type": "code",
   "id": "2007954f3fa77392",
   "metadata": {
    "ExecuteTime": {
     "end_time": "2024-11-15T17:41:01.737835Z",
     "start_time": "2024-11-15T17:41:01.717837Z"
    }
   },
   "source": [
    "# a) \n",
    "def factorial(n):\n",
    "    if n == 0:\n",
    "        return 1\n",
    "    else:\n",
    "        return n * factorial(n-1)\n",
    "    \n",
    "# b)\n",
    "\n",
    "def staircase(n):\n",
    "    \n",
    "    possible_ways = [1]\n",
    "    for i in range(1,n+1):\n",
    "        if i == 1:\n",
    "            possible_ways.append(possible_ways[i-1])\n",
    "        elif i == 2:\n",
    "            possible_ways.append(possible_ways[i-1] + possible_ways[i-2])\n",
    "        elif i == 3:\n",
    "            possible_ways.append(possible_ways[i-1] + possible_ways[i-2] + possible_ways[i-3])\n",
    "        else:\n",
    "            possible_ways.append(possible_ways[i-1] + possible_ways[i-2] +possible_ways[i-3])\n",
    "        \n",
    "    return possible_ways\n",
    "\n",
    "staircase(16)\n"
   ],
   "outputs": [
    {
     "data": {
      "text/plain": [
       "[1, 1, 2, 4, 7, 13, 24, 44, 81, 149, 274, 504, 927, 1705, 3136, 5768, 10609]"
      ]
     },
     "execution_count": 2,
     "metadata": {},
     "output_type": "execute_result"
    }
   ],
   "execution_count": 2
  },
  {
   "metadata": {
    "ExecuteTime": {
     "end_time": "2024-11-15T17:41:01.814839Z",
     "start_time": "2024-11-15T17:41:01.808839Z"
    }
   },
   "cell_type": "code",
   "source": "",
   "id": "1d080d2525384c8a",
   "outputs": [],
   "execution_count": 2
  },
  {
   "metadata": {
    "ExecuteTime": {
     "end_time": "2024-11-15T17:41:57.246770Z",
     "start_time": "2024-11-15T17:41:57.235753Z"
    }
   },
   "cell_type": "code",
   "source": [
    "def count_ways_to_climb(n):\n",
    "    if n < 0:\n",
    "        return 0\n",
    "    if n == 0:\n",
    "        return 1\n",
    "\n",
    "    # Initialize a DP array to store the number of ways to climb each step\n",
    "    dp = [0] * (n + 1)\n",
    "    dp[0] = 1  # Base case: 1 way to stay at step 0\n",
    "\n",
    "    for i in range(1, n + 1):\n",
    "        dp[i] = dp[i - 1]  # Add the number of ways to climb to step i-1\n",
    "        if i >= 2:\n",
    "            dp[i] += dp[i - 2]  # Add the number of ways to climb to step i-2\n",
    "        if i >= 3:\n",
    "            dp[i] += dp[i - 3]  # Add the number of ways to climb to step i-3\n",
    "\n",
    "    return dp\n",
    "\n",
    "# Example usage:\n",
    "n = 16\n",
    "print(\"Number of ways to climb\", n, \"steps:\", count_ways_to_climb(n))"
   ],
   "id": "1214819b7580fff8",
   "outputs": [
    {
     "name": "stdout",
     "output_type": "stream",
     "text": [
      "Number of ways to climb 16 steps: [1, 1, 2, 4, 7, 13, 24, 44, 81, 149, 274, 504, 927, 1705, 3136, 5768, 10609]\n"
     ]
    }
   ],
   "execution_count": 5
  },
  {
   "metadata": {},
   "cell_type": "code",
   "outputs": [],
   "execution_count": null,
   "source": "",
   "id": "be97fdf822ddcf69"
  }
 ],
 "metadata": {
  "kernelspec": {
   "display_name": "Python 3 (ipykernel)",
   "language": "python",
   "name": "python3"
  },
  "language_info": {
   "codemirror_mode": {
    "name": "ipython",
    "version": 3
   },
   "file_extension": ".py",
   "mimetype": "text/x-python",
   "name": "python",
   "nbconvert_exporter": "python",
   "pygments_lexer": "ipython3",
   "version": "3.10.1"
  }
 },
 "nbformat": 4,
 "nbformat_minor": 5
}
