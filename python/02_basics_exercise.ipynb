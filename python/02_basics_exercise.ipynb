{
 "cells": [
  {
   "metadata": {},
   "cell_type": "markdown",
   "source": [
    "### Exercise 1: Operations\n",
    "a) Write a function that checks if a given number is even or odd and returns the answer as boolean.\n",
    "\n",
    "b) Write a function that checks if a given number is a prime number and returns the answer as boolean.\n",
    "\n",
    "c) Write a function that has three parameters \"(float) num1\", \"(float) num2\" and \"(string) operation\" that has the functionality of a basic calculator and performes the calculation:\n",
    "num1 operation num2 = output"
   ],
   "id": "840887565085c80b"
  },
  {
   "metadata": {},
   "cell_type": "markdown",
   "source": [
    "### Exercise 2: Lists\n",
    "\n",
    "a) Write a Python program that finds the largest number in a list. (Without using the max() function)\n",
    "\n",
    "b) Write a Python program that finds the smallest number in a list.\n",
    "(Without using the min() function)\n",
    "\n",
    "c) Write a Python program that removes duplicates from a list. (Without using the set() function and without using sets at all or the dictionary data type and similar)"
   ],
   "id": "faa1088e7222e284"
  },
  {
   "metadata": {},
   "cell_type": "markdown",
   "source": [
    "### Bonus Exercise 3: String Manipulation \n",
    "\n",
    "a) Writes two python functions that encode and decode a text using the Caesar cipher. The Caesar cipher is a simple substitution cipher in which each letter of the plain text is substituted with a letter found by moving n places down the alphabet. For example with a shift of 1, A would be replaced by B, B would become C, and so on. The method is apparently named after Julius Caesar, who apparently used it to communicate with his officials. Caesar ciphers can use any integer value as a shift.\\\n",
    "HINT: if you use an alphabet assume characters not present should just remain the same, if you use unicode, all unicode chars are valid for shift.\n",
    "\n",
    "b) Write a Python program that counts the number of vowels in a given string.\n"
   ],
   "id": "15de647b4130a4d"
  },
  {
   "metadata": {},
   "cell_type": "markdown",
   "source": [
    "### Advanced Bonus Exercise 4: Functions and Recursion\n",
    "\n",
    "a) Write a Python function that calculates the factorial of a number (a non-negative integer). The function should take the number as an argument and return the factorial. The factorial of a number n is the product of all numbers from 1 up to and including n. \\\n",
    "HINT: Don't use any implemented factorial function, look into recursion\n",
    "\n",
    "b) Use dynamic programming for this problem: Given a staircase with n steps. Determine the number of possible ways to climb the stairs if you can take either 1, 2 or 3 steps at a time.\n",
    "Take also step 0 into account, i.e. climbing a stair with 0 steps has 1 possible way. \\\n",
    "HINT: Dynamic programming involves iterating all possible scenarios without recursion. Start by thinking of way to climb a single stair, then 2, then n > 2. The next solution at step n is always related to the computations at step n-1."
   ],
   "id": "8afbfa15794fdbff"
  }
 ],
 "metadata": {
  "kernelspec": {
   "display_name": "Python 3",
   "language": "python",
   "name": "python3"
  },
  "language_info": {
   "codemirror_mode": {
    "name": "ipython",
    "version": 2
   },
   "file_extension": ".py",
   "mimetype": "text/x-python",
   "name": "python",
   "nbconvert_exporter": "python",
   "pygments_lexer": "ipython2",
   "version": "2.7.6"
  }
 },
 "nbformat": 4,
 "nbformat_minor": 5
}
