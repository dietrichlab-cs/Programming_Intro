{
 "cells": [
  {
   "metadata": {},
   "cell_type": "markdown",
   "source": [
    "# Handling IMGT-VDJ data\n",
    "\n",
    "[IMGT-VQUEST](https://www.imgt.org/IMGT_vquest/input) can provide a `.tsv` with all the extracted features.\n",
    "Each row represents a VDJ sequence and each column a feature.\n",
    "We input the VDJ sequence and get the feature matrix back.\n",
    "\n",
    "We provided you with an example feature matrix via mail, you can move it to the `datasets` directory.\n",
    "\n",
    "Your tasks:\n",
    "\n",
    "1. Load the `.tsv` file using pandas. A `.tsv` is similar to a `.csv` but instead of comma-separated it is a tab-seperated file. Take a look at the [read_csv()](https://pandas.pydata.org/docs/reference/api/pandas.read_csv.html) function, especially the `delimiter` parameter.\n",
    "2. Take a look at the first few entries. A useful function is the [head()](https://pandas.pydata.org/docs/reference/api/pandas.DataFrame.head.html) function called on the dataframe.\n",
    "3. Print out all the column names of the dataframe. A useful attribute is the [dataframe.columns](https://pandas.pydata.org/docs/reference/api/pandas.DataFrame.head.html).\n",
    "4. Create a new dataframe with only the following columns: [sequence_id, locus, productive, junction, junction_length]. The indexing syntax can take a list of column names to select and returns a new dataframe (e.g. `df[[\"c1\", \"c2\", \"c3\"]]`). For tasks 5-8 it is sufficient to work with this subset dataframe.\n",
    "5. Find the minimum, maximum and mean junction length. For this, first select the correct column via the indexing syntax (e.g. `df['column_name']`) and the call the built-in functions `max(), min() or mean()` on this.\n",
    "6. Print all rows that contain an empty value in the `junction` column.\n",
    "7. Select only the rows that are called as heavy chain `IGH` sequences. There are some `IGL` and `IGK` sequences in there. Create a boolean mask with the condition (e.g. `df['column_name'] == 'value'`) and then use this to subset the dataframe (e.g. `df[df['column_name'] == 'value']`)\n",
    "8. Select only the rows that are called as heavy chain `IGH` and have a productive vdj rearrangement. You can combine boolean masks using the `&` or `|` operators. For a row index `i` the first combine the masks such that $combined_i == true -> b_i1 == \\text{true and } b_i2 == true$, the second one will combine the masks such that $combined_i == true -> b_i1 == \\text{true or } b_i2 == true$\n",
    "9. (BONUS) Find all sequences with 100% germline identity for V,D and J gene. Print their amino acid sequence."
   ],
   "id": "61f2b5d12c9d67c0"
  },
  {
   "metadata": {},
   "cell_type": "code",
   "outputs": [],
   "execution_count": null,
   "source": "",
   "id": "24e391428ec95692"
  }
 ],
 "metadata": {
  "kernelspec": {
   "display_name": "Python 3",
   "language": "python",
   "name": "python3"
  },
  "language_info": {
   "codemirror_mode": {
    "name": "ipython",
    "version": 2
   },
   "file_extension": ".py",
   "mimetype": "text/x-python",
   "name": "python",
   "nbconvert_exporter": "python",
   "pygments_lexer": "ipython2",
   "version": "2.7.6"
  }
 },
 "nbformat": 4,
 "nbformat_minor": 5
}
