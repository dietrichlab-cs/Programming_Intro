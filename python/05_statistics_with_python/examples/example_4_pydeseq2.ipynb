{
 "cells": [
  {
   "cell_type": "code",
   "id": "initial_id",
   "metadata": {
    "collapsed": true
   },
   "source": [
    "import pandas as pd \n",
    "import numpy as np\n",
    "import scipy.stats as stats\n",
    "import matplotlib.pyplot as plt\n",
    "import seaborn as sns\n",
    "from pydeseq2.ds import DeseqStats\n",
    "from pydeseq2.dds import DeseqDataSet"
   ],
   "outputs": [],
   "execution_count": null
  },
  {
   "metadata": {},
   "cell_type": "code",
   "source": [
    "file_path_data = \"data/example_4/example_4_deseq2_data_5sp.csv\"\n",
    "file_path_ground_truth = \"data/example_4/example_4_deseq2_ground_truth_5sp.csv\""
   ],
   "id": "30985aa01e5b8eb1",
   "outputs": [],
   "execution_count": null
  },
  {
   "metadata": {},
   "cell_type": "code",
   "source": [
    "data = pd.read_csv(file_path_data)\n",
    "data.set_index('gene_id', inplace=True)\n",
    "data = data.T\n",
    "ground_truth_df = pd.read_csv(file_path_ground_truth)\n",
    "ground_truth_df.set_index('gene_id', inplace=True)"
   ],
   "id": "1de38739b96d1826",
   "outputs": [],
   "execution_count": null
  },
  {
   "metadata": {},
   "cell_type": "code",
   "source": [
    "l_t_c = [ \"C\", \"T\"] * 5\n",
    "meta_data = pd.DataFrame(zip(data.index, l_t_c), columns = ['Sample','Condition'])\n",
    "meta_data= meta_data.set_index('Sample')\n",
    "meta_data"
   ],
   "id": "61e07875e345451e",
   "outputs": [],
   "execution_count": null
  },
  {
   "metadata": {},
   "cell_type": "code",
   "source": [
    "from pydeseq2.dds import DeseqDataSet\n",
    "\n",
    "dds = DeseqDataSet(counts=data,metadata=meta_data, design_factors=\"Condition\")\n",
    "dds.deseq2()"
   ],
   "id": "8db269d85c6f9fe6",
   "outputs": [],
   "execution_count": null
  },
  {
   "metadata": {},
   "cell_type": "code",
   "source": [
    "stat_res = DeseqStats(dds, contrast=[\"Condition\", \"T\", \"C\"])\n",
    "stat_res.summary()"
   ],
   "id": "7bd47bcee6363c20",
   "outputs": [],
   "execution_count": null
  },
  {
   "metadata": {},
   "cell_type": "code",
   "source": [
    "res = stat_res.results_df\n",
    "res = res.merge(ground_truth_df, left_index=True, right_index=True)\n",
    "res"
   ],
   "id": "637a75a6017f6890",
   "outputs": [],
   "execution_count": null
  },
  {
   "metadata": {},
   "cell_type": "code",
   "source": "res[res[\"padj\"] < 0.05]",
   "id": "de83149190a4bb53",
   "outputs": [],
   "execution_count": null
  }
 ],
 "metadata": {
  "kernelspec": {
   "display_name": "Python 3",
   "language": "python",
   "name": "python3"
  },
  "language_info": {
   "codemirror_mode": {
    "name": "ipython",
    "version": 2
   },
   "file_extension": ".py",
   "mimetype": "text/x-python",
   "name": "python",
   "nbconvert_exporter": "python",
   "pygments_lexer": "ipython2",
   "version": "2.7.6"
  }
 },
 "nbformat": 4,
 "nbformat_minor": 5
}
