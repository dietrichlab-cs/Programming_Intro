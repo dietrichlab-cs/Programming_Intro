{
 "cells": [
  {
   "metadata": {
    "ExecuteTime": {
     "end_time": "2024-12-16T09:47:25.034931Z",
     "start_time": "2024-12-16T09:47:25.031897Z"
    }
   },
   "cell_type": "code",
   "source": [
    "import math\n",
    "\n",
    "import pandas as pd\n",
    "import numpy as np\n",
    "import matplotlib.pyplot as plt\n",
    "import seaborn as sns\n",
    "from scipy import stats"
   ],
   "id": "8bf0d48c34a8a2e1",
   "outputs": [],
   "execution_count": 12
  },
  {
   "metadata": {},
   "cell_type": "markdown",
   "source": [
    "## Example: Cellvariability after Treatment\n",
    "We assume that we have a dataset with the viability of cells in three groups: a control group and two treatment groups. We want to analyze the variability in cell viability after treatment."
   ],
   "id": "83c70b7593342ba5"
  },
  {
   "metadata": {
    "ExecuteTime": {
     "end_time": "2024-12-16T09:47:25.070305Z",
     "start_time": "2024-12-16T09:47:25.062939Z"
    }
   },
   "cell_type": "code",
   "source": [
    "# Example: Cellvariability after Treatment\n",
    "\n",
    "sample_size = 10\n",
    "np.random.seed(42)  # Set for reproducibility\n",
    "\n",
    "real_control_mean = 80\n",
    "real_treatment_a_mean = 70\n",
    "real_treatment_b_mean = 40\n",
    "real_control_std = 20\n",
    "real_treatment_a_std = 10\n",
    "real_treatment_b_std = 30\n",
    "\n",
    "data = pd.DataFrame({\n",
    "    \"group\": [\"Control\"] * sample_size + [\"Treatment A\"] * sample_size + [\"Treatment B\"] * sample_size,\n",
    "    \"Viability\": np.concatenate([\n",
    "        np.random.normal(real_control_mean, real_control_std, sample_size),  # Kontrollgruppe\n",
    "        np.random.normal(real_treatment_a_mean, real_treatment_a_std, sample_size),  # Behandlung A\n",
    "        np.random.normal(real_treatment_b_mean, real_treatment_b_std, sample_size)   # Behandlung B\n",
    "    ])\n",
    "})"
   ],
   "id": "75ac323d572e6ae4",
   "outputs": [],
   "execution_count": 13
  },
  {
   "metadata": {
    "ExecuteTime": {
     "end_time": "2024-12-16T09:47:25.082497Z",
     "start_time": "2024-12-16T09:47:25.071313Z"
    }
   },
   "cell_type": "code",
   "source": "data",
   "id": "15c331a9b3b1897a",
   "outputs": [
    {
     "data": {
      "text/plain": [
       "          group   Viability\n",
       "0       Control   89.934283\n",
       "1       Control   77.234714\n",
       "2       Control   92.953771\n",
       "3       Control  110.460597\n",
       "4       Control   75.316933\n",
       "5       Control   75.317261\n",
       "6       Control  111.584256\n",
       "7       Control   95.348695\n",
       "8       Control   70.610512\n",
       "9       Control   90.851201\n",
       "10  Treatment A   65.365823\n",
       "11  Treatment A   65.342702\n",
       "12  Treatment A   72.419623\n",
       "13  Treatment A   50.867198\n",
       "14  Treatment A   52.750822\n",
       "15  Treatment A   64.377125\n",
       "16  Treatment A   59.871689\n",
       "17  Treatment A   73.142473\n",
       "18  Treatment A   60.919759\n",
       "19  Treatment A   55.876963\n",
       "20  Treatment B   83.969463\n",
       "21  Treatment B   33.226711\n",
       "22  Treatment B   42.025846\n",
       "23  Treatment B   -2.742446\n",
       "24  Treatment B   23.668518\n",
       "25  Treatment B   43.327678\n",
       "26  Treatment B    5.470193\n",
       "27  Treatment B   51.270941\n",
       "28  Treatment B   21.980839\n",
       "29  Treatment B   31.249188"
      ],
      "text/html": [
       "<div>\n",
       "<style scoped>\n",
       "    .dataframe tbody tr th:only-of-type {\n",
       "        vertical-align: middle;\n",
       "    }\n",
       "\n",
       "    .dataframe tbody tr th {\n",
       "        vertical-align: top;\n",
       "    }\n",
       "\n",
       "    .dataframe thead th {\n",
       "        text-align: right;\n",
       "    }\n",
       "</style>\n",
       "<table border=\"1\" class=\"dataframe\">\n",
       "  <thead>\n",
       "    <tr style=\"text-align: right;\">\n",
       "      <th></th>\n",
       "      <th>group</th>\n",
       "      <th>Viability</th>\n",
       "    </tr>\n",
       "  </thead>\n",
       "  <tbody>\n",
       "    <tr>\n",
       "      <th>0</th>\n",
       "      <td>Control</td>\n",
       "      <td>89.934283</td>\n",
       "    </tr>\n",
       "    <tr>\n",
       "      <th>1</th>\n",
       "      <td>Control</td>\n",
       "      <td>77.234714</td>\n",
       "    </tr>\n",
       "    <tr>\n",
       "      <th>2</th>\n",
       "      <td>Control</td>\n",
       "      <td>92.953771</td>\n",
       "    </tr>\n",
       "    <tr>\n",
       "      <th>3</th>\n",
       "      <td>Control</td>\n",
       "      <td>110.460597</td>\n",
       "    </tr>\n",
       "    <tr>\n",
       "      <th>4</th>\n",
       "      <td>Control</td>\n",
       "      <td>75.316933</td>\n",
       "    </tr>\n",
       "    <tr>\n",
       "      <th>5</th>\n",
       "      <td>Control</td>\n",
       "      <td>75.317261</td>\n",
       "    </tr>\n",
       "    <tr>\n",
       "      <th>6</th>\n",
       "      <td>Control</td>\n",
       "      <td>111.584256</td>\n",
       "    </tr>\n",
       "    <tr>\n",
       "      <th>7</th>\n",
       "      <td>Control</td>\n",
       "      <td>95.348695</td>\n",
       "    </tr>\n",
       "    <tr>\n",
       "      <th>8</th>\n",
       "      <td>Control</td>\n",
       "      <td>70.610512</td>\n",
       "    </tr>\n",
       "    <tr>\n",
       "      <th>9</th>\n",
       "      <td>Control</td>\n",
       "      <td>90.851201</td>\n",
       "    </tr>\n",
       "    <tr>\n",
       "      <th>10</th>\n",
       "      <td>Treatment A</td>\n",
       "      <td>65.365823</td>\n",
       "    </tr>\n",
       "    <tr>\n",
       "      <th>11</th>\n",
       "      <td>Treatment A</td>\n",
       "      <td>65.342702</td>\n",
       "    </tr>\n",
       "    <tr>\n",
       "      <th>12</th>\n",
       "      <td>Treatment A</td>\n",
       "      <td>72.419623</td>\n",
       "    </tr>\n",
       "    <tr>\n",
       "      <th>13</th>\n",
       "      <td>Treatment A</td>\n",
       "      <td>50.867198</td>\n",
       "    </tr>\n",
       "    <tr>\n",
       "      <th>14</th>\n",
       "      <td>Treatment A</td>\n",
       "      <td>52.750822</td>\n",
       "    </tr>\n",
       "    <tr>\n",
       "      <th>15</th>\n",
       "      <td>Treatment A</td>\n",
       "      <td>64.377125</td>\n",
       "    </tr>\n",
       "    <tr>\n",
       "      <th>16</th>\n",
       "      <td>Treatment A</td>\n",
       "      <td>59.871689</td>\n",
       "    </tr>\n",
       "    <tr>\n",
       "      <th>17</th>\n",
       "      <td>Treatment A</td>\n",
       "      <td>73.142473</td>\n",
       "    </tr>\n",
       "    <tr>\n",
       "      <th>18</th>\n",
       "      <td>Treatment A</td>\n",
       "      <td>60.919759</td>\n",
       "    </tr>\n",
       "    <tr>\n",
       "      <th>19</th>\n",
       "      <td>Treatment A</td>\n",
       "      <td>55.876963</td>\n",
       "    </tr>\n",
       "    <tr>\n",
       "      <th>20</th>\n",
       "      <td>Treatment B</td>\n",
       "      <td>83.969463</td>\n",
       "    </tr>\n",
       "    <tr>\n",
       "      <th>21</th>\n",
       "      <td>Treatment B</td>\n",
       "      <td>33.226711</td>\n",
       "    </tr>\n",
       "    <tr>\n",
       "      <th>22</th>\n",
       "      <td>Treatment B</td>\n",
       "      <td>42.025846</td>\n",
       "    </tr>\n",
       "    <tr>\n",
       "      <th>23</th>\n",
       "      <td>Treatment B</td>\n",
       "      <td>-2.742446</td>\n",
       "    </tr>\n",
       "    <tr>\n",
       "      <th>24</th>\n",
       "      <td>Treatment B</td>\n",
       "      <td>23.668518</td>\n",
       "    </tr>\n",
       "    <tr>\n",
       "      <th>25</th>\n",
       "      <td>Treatment B</td>\n",
       "      <td>43.327678</td>\n",
       "    </tr>\n",
       "    <tr>\n",
       "      <th>26</th>\n",
       "      <td>Treatment B</td>\n",
       "      <td>5.470193</td>\n",
       "    </tr>\n",
       "    <tr>\n",
       "      <th>27</th>\n",
       "      <td>Treatment B</td>\n",
       "      <td>51.270941</td>\n",
       "    </tr>\n",
       "    <tr>\n",
       "      <th>28</th>\n",
       "      <td>Treatment B</td>\n",
       "      <td>21.980839</td>\n",
       "    </tr>\n",
       "    <tr>\n",
       "      <th>29</th>\n",
       "      <td>Treatment B</td>\n",
       "      <td>31.249188</td>\n",
       "    </tr>\n",
       "  </tbody>\n",
       "</table>\n",
       "</div>"
      ]
     },
     "execution_count": 14,
     "metadata": {},
     "output_type": "execute_result"
    }
   ],
   "execution_count": 14
  },
  {
   "metadata": {
    "ExecuteTime": {
     "end_time": "2024-12-16T09:47:25.101212Z",
     "start_time": "2024-12-16T09:47:25.082497Z"
    }
   },
   "cell_type": "code",
   "source": "data.groupby('group').describe()",
   "id": "4ee5e317fbf73c22",
   "outputs": [
    {
     "data": {
      "text/plain": [
       "            Viability                                                         \\\n",
       "                count       mean        std        min        25%        50%   \n",
       "group                                                                          \n",
       "Control          10.0  88.961222  14.460167  70.610512  75.796624  90.392742   \n",
       "Treatment A      10.0  62.093418   7.553247  50.867198  56.875644  62.648442   \n",
       "Treatment B      10.0  33.344693  24.416934  -2.742446  22.402759  32.237949   \n",
       "\n",
       "                                    \n",
       "                   75%         max  \n",
       "group                               \n",
       "Control      94.749964  111.584256  \n",
       "Treatment A  65.360043   73.142473  \n",
       "Treatment B  43.002220   83.969463  "
      ],
      "text/html": [
       "<div>\n",
       "<style scoped>\n",
       "    .dataframe tbody tr th:only-of-type {\n",
       "        vertical-align: middle;\n",
       "    }\n",
       "\n",
       "    .dataframe tbody tr th {\n",
       "        vertical-align: top;\n",
       "    }\n",
       "\n",
       "    .dataframe thead tr th {\n",
       "        text-align: left;\n",
       "    }\n",
       "\n",
       "    .dataframe thead tr:last-of-type th {\n",
       "        text-align: right;\n",
       "    }\n",
       "</style>\n",
       "<table border=\"1\" class=\"dataframe\">\n",
       "  <thead>\n",
       "    <tr>\n",
       "      <th></th>\n",
       "      <th colspan=\"8\" halign=\"left\">Viability</th>\n",
       "    </tr>\n",
       "    <tr>\n",
       "      <th></th>\n",
       "      <th>count</th>\n",
       "      <th>mean</th>\n",
       "      <th>std</th>\n",
       "      <th>min</th>\n",
       "      <th>25%</th>\n",
       "      <th>50%</th>\n",
       "      <th>75%</th>\n",
       "      <th>max</th>\n",
       "    </tr>\n",
       "    <tr>\n",
       "      <th>group</th>\n",
       "      <th></th>\n",
       "      <th></th>\n",
       "      <th></th>\n",
       "      <th></th>\n",
       "      <th></th>\n",
       "      <th></th>\n",
       "      <th></th>\n",
       "      <th></th>\n",
       "    </tr>\n",
       "  </thead>\n",
       "  <tbody>\n",
       "    <tr>\n",
       "      <th>Control</th>\n",
       "      <td>10.0</td>\n",
       "      <td>88.961222</td>\n",
       "      <td>14.460167</td>\n",
       "      <td>70.610512</td>\n",
       "      <td>75.796624</td>\n",
       "      <td>90.392742</td>\n",
       "      <td>94.749964</td>\n",
       "      <td>111.584256</td>\n",
       "    </tr>\n",
       "    <tr>\n",
       "      <th>Treatment A</th>\n",
       "      <td>10.0</td>\n",
       "      <td>62.093418</td>\n",
       "      <td>7.553247</td>\n",
       "      <td>50.867198</td>\n",
       "      <td>56.875644</td>\n",
       "      <td>62.648442</td>\n",
       "      <td>65.360043</td>\n",
       "      <td>73.142473</td>\n",
       "    </tr>\n",
       "    <tr>\n",
       "      <th>Treatment B</th>\n",
       "      <td>10.0</td>\n",
       "      <td>33.344693</td>\n",
       "      <td>24.416934</td>\n",
       "      <td>-2.742446</td>\n",
       "      <td>22.402759</td>\n",
       "      <td>32.237949</td>\n",
       "      <td>43.002220</td>\n",
       "      <td>83.969463</td>\n",
       "    </tr>\n",
       "  </tbody>\n",
       "</table>\n",
       "</div>"
      ]
     },
     "execution_count": 15,
     "metadata": {},
     "output_type": "execute_result"
    }
   ],
   "execution_count": 15
  },
  {
   "metadata": {
    "ExecuteTime": {
     "end_time": "2024-12-16T09:47:25.309086Z",
     "start_time": "2024-12-16T09:47:25.102219Z"
    }
   },
   "cell_type": "code",
   "source": "sns.histplot(data, x=\"Viability\", hue=\"group\", bins=20, palette=\"Set2\")",
   "id": "78908e779ac83d96",
   "outputs": [
    {
     "data": {
      "text/plain": [
       "<Axes: xlabel='Viability', ylabel='Count'>"
      ]
     },
     "execution_count": 16,
     "metadata": {},
     "output_type": "execute_result"
    },
    {
     "data": {
      "text/plain": [
       "<Figure size 640x480 with 1 Axes>"
      ],
      "image/png": "[encoded data removed]"
     },
     "metadata": {},
     "output_type": "display_data"
    }
   ],
   "execution_count": 16
  },
  {
   "metadata": {},
   "cell_type": "markdown",
   "source": [
    "# **Explanation: Random Variable, Expectation, and Mean as Approximation of Expectation**\n",
    "\n",
    "## **Random Variable**\n",
    "A **random variable** is a variable that takes on different values based on the outcome of a random event. It is typically defined as a function that maps outcomes in a sample space to numerical values.\n",
    "\n",
    "### **Types of Random Variables:**\n",
    "1. **Discrete Random Variable:** Takes on a countable number of values (e.g., the number of heads in a coin toss).\n",
    "2. **Continuous Random Variable:** Takes on an uncountable range of values (e.g., the weight of a tumor sample).\n",
    "\n",
    "Formally, a random variable \\(X\\) can be defined over a probability space \\((\\Omega, \\mathcal{F}, P)\\), where \\(\\Omega\\) is the sample space, \\(\\mathcal{F}\\) is a set of events, and \\(P\\) is the probability measure.\n",
    "\n",
    "---\n",
    "\n",
    "## **Expectation (Expected Value)**\n",
    "The **expectation** or **expected value** of a random variable \\(X\\), denoted \\(E[X]\\), is the theoretical mean of the random variable based on its probability distribution. It represents the average value \\(X\\) would take on over an infinite number of trials.\n",
    "\n",
    "### **Formulas:**\n",
    "- For a **discrete random variable** \\(X\\) with possible values \\(x_i\\) and probabilities \\(P(X = x_i) = p_i\\):\n",
    "  $$\n",
    "  E[X] = \\sum_{i} x_i \\cdot p_i\n",
    "  $$\n",
    "\n",
    "- For a **continuous random variable** \\(X\\) with a probability density function (PDF) \\(f(x)\\):\n",
    "  $$\n",
    "  E[X] = \\int_{-\\infty}^{\\infty} x \\cdot f(x) \\ dx\n",
    "  $$\n",
    "\n",
    "The expectation provides a measure of the central tendency of the random variable.\n",
    "\n",
    "---\n",
    "\n",
    "## **Standard Deviation**\n",
    "The **standard deviation** measures the spread or variability of a random variable around its expected value. It is the square root of the variance, which quantifies the average squared deviation from the mean.\n",
    "\n",
    "### **Formulas:**\n",
    "- **Variance** of a random variable \\(X\\):\n",
    "  $$\n",
    "  \\text{Var}(X) = E[(X - E[X])^2]\n",
    "  $$\n",
    "\n",
    "\n",
    "## **Mean as Approximation of Expectation**\n",
    "In practice, the **mean** of a finite sample is used as an approximation of the theoretical expectation \\(E[X]\\). When we take \\(n\\) observations of a random variable \\(X\\), the mean \\(\\bar{X}\\) is given by:\n",
    "$$\n",
    "\\bar{X} = \\frac{1}{n} \\sum_{i=1}^{n} X_i\n",
    "$$\n",
    "\n",
    "### **Relationship Between Mean and Expectation:**\n",
    "- The law of large numbers states that as \\(n \\to \\infty\\), the sample mean \\(\\bar{X}\\) converges to the expected value \\(E[X]\\).\n",
    "- Thus, the mean is a practical estimator for \\(E[X]\\) when working with finite samples.\n",
    "\n",
    "### **Approximarion of the Standard Deviation:**\n",
    "The standard deviation of a sample is used as an approximation of the standard deviation of the random variable. The sample standard deviation is calculated as:\n",
    "$$\n",
    "s = \\sqrt{\\frac{1}{n-1} \\sum_{i=1}^{n} (X_i - \\bar{X})^2}\n",
    "$$\n",
    "\n",
    "### **Example:**\n",
    "Suppose \\(X\\) represents the outcome of rolling a fair six-sided die:\n",
    "- The possible values are \\(\\{1, 2, 3, 4, 5, 6\\}\\).\n",
    "- The expected value is:\n",
    "  $$\n",
    "  E[X] = \\frac{1}{6}(1 + 2 + 3 + 4 + 5 + 6) = 3.5\n",
    "  $$\n",
    "- For 10 rolls, the sample mean might be \\(\\bar{X} = 3.7\\), which approximates \\(E[X] = 3.5\\).\n",
    "\n",
    "- standart deviation approximation:\n",
    "$$\n",
    "\\sigma = \\sqrt{\\frac{1}{9}((1-3.7)^2 + (2-3.7)^2 + \\ldots + (6-3.7)^2)} = 1.87\n",
    "$$\n",
    "---\n",
    "\n",
    "## **Summary:**\n",
    "- A **random variable** describes possible outcomes of a random phenomenon.\n",
    "- The **expectation** is the theoretical average based on the probability distribution of the random variable.\n",
    "- The **mean** of a sample provides an estimate of the expectation, becoming more accurate with larger sample sizes.\n",
    "- The **standard deviation** quantifies the variability of the random variable around its mean.\n"
   ],
   "id": "a658030e4d59098c"
  },
  {
   "metadata": {
    "ExecuteTime": {
     "end_time": "2024-12-16T09:57:19.145805Z",
     "start_time": "2024-12-16T09:57:18.781677Z"
    }
   },
   "cell_type": "code",
   "source": [
    "import numpy as np\n",
    "import matplotlib.pyplot as plt\n",
    "import seaborn as sns\n",
    "from scipy import stats\n",
    "import math\n",
    "# Subplots erstellen\n",
    "fig, ax = plt.subplots(1, 2)\n",
    "fig.set_size_inches(12, 6)\n",
    "\n",
    "\n",
    "mean = 0.0\n",
    "std = 0.1\n",
    "sample_size = 100\n",
    "X = np.random.normal(mean, std, sample_size)\n",
    "Y = np.random.normal(mean, std, sample_size)\n",
    "\n",
    "sns.scatterplot(x=X, y=Y, ax=ax[0])\n",
    "ax[0].set_xlim(-1, 1)  # x-Achse begrenzen\n",
    "ax[0].set_ylim(-1, 1)  # y-Achse begrenzen\n",
    "ax[0].set_title(\"Scatter Plot of Random Variables\")\n",
    "\n",
    "# --- Histogramm und PDF auf der rechten Achse ---\n",
    "# Zweite y-Achse erstellen\n",
    "ax2 = ax[1].twinx()\n",
    "\n",
    "# PDF-Kurve zeichnen\n",
    "true_x = np.linspace(-0.3, 0.3, 10000)\n",
    "true_y = stats.norm.pdf(true_x, mean, std)\n",
    "ax2.plot(true_x, true_y, color='red', label=\"PDF\", linewidth=2)\n",
    "ax2.set_ylabel(\"PDF\")\n",
    "\n",
    "# Histogramm zeichnen\n",
    "sns.histplot(X, ax=ax[1], bins=math.ceil(np.sqrt(sample_size)), kde=False, color=\"skyblue\", alpha=0.7, label=\"Histogram\")\n",
    "ax[1].set_xlim(-0.35, 0.35)\n",
    "ax[1].set_xlabel(\"Values\")\n",
    "ax[1].set_ylabel(\"Count\")\n",
    "ax[1].set_title(\"Histogram and PDF\")\n",
    "\n",
    "# Legenden hinzufügen\n",
    "ax[1].legend(loc=\"upper left\")\n",
    "ax2.legend(loc=\"upper right\")\n",
    "\n",
    "# Layout anpassen\n",
    "plt.tight_layout()\n",
    "plt.show()\n"
   ],
   "id": "4c7324ed87760580",
   "outputs": [
    {
     "data": {
      "text/plain": [
       "<Figure size 1200x600 with 3 Axes>"
      ],
      "image/png": "[encoded data removed]"
     },
     "metadata": {},
     "output_type": "display_data"
    }
   ],
   "execution_count": 73
  },
  {
   "metadata": {},
   "cell_type": "markdown",
   "source": [
    "# Back to the Example\n",
    "How much does the mean and standard deviation of the sample differ from the \"real values\"?"
   ],
   "id": "da15af0d50b8a5d6"
  },
  {
   "metadata": {
    "ExecuteTime": {
     "end_time": "2024-12-16T09:47:25.602768Z",
     "start_time": "2024-12-16T09:47:25.598085Z"
    }
   },
   "cell_type": "code",
   "source": [
    "# Example: Cellvariability after Treatment\n",
    "\n",
    "sample_size = 1000\n",
    "np.random.seed(42)  # Set for reproducibility\n",
    "\n",
    "real_control_mean = 80\n",
    "real_treatment_a_mean = 75\n",
    "real_treatment_b_mean = 40\n",
    "real_control_std = 20\n",
    "real_treatment_a_std = 10\n",
    "real_treatment_b_std = 30\n",
    "\n",
    "data = pd.DataFrame({\n",
    "    \"group\": [\"Control\"] * sample_size + [\"Treatment A\"] * sample_size + [\"Treatment B\"] * sample_size,\n",
    "    \"Viability\": np.concatenate([\n",
    "        np.random.normal(real_control_mean, real_control_std, sample_size),  # Kontrollgruppe\n",
    "        np.random.normal(real_treatment_a_mean, real_treatment_a_std, sample_size),  # Behandlung A\n",
    "        np.random.normal(real_treatment_b_mean, real_treatment_b_std, sample_size)   # Behandlung B\n",
    "    ])\n",
    "})"
   ],
   "id": "c41c530ee59704eb",
   "outputs": [],
   "execution_count": 18
  },
  {
   "metadata": {
    "ExecuteTime": {
     "end_time": "2024-12-16T09:47:25.612850Z",
     "start_time": "2024-12-16T09:47:25.603776Z"
    }
   },
   "cell_type": "code",
   "source": [
    "control_mean = data[data[\"group\"] == \"Control\"][\"Viability\"].mean()\n",
    "treatment_a_mean = data[data[\"group\"] == \"Treatment A\"][\"Viability\"].mean()\n",
    "treatment_b_mean = data[data[\"group\"] == \"Treatment B\"][\"Viability\"].mean()\n",
    "\n",
    "# std\n",
    "control_std = data[data[\"group\"] == \"Control\"][\"Viability\"].std()\n",
    "treatment_a_std = data[data[\"group\"] == \"Treatment A\"][\"Viability\"].std()\n",
    "treatment_b_std = data[data[\"group\"] == \"Treatment B\"][\"Viability\"].std()\n",
    "\n",
    "\n",
    "print(\"Control Group Mean:\", control_mean, \"\\nTreatment A Mean:\", treatment_a_mean, \"\\nTreatment B Mean:\", treatment_b_mean)\n",
    "print(\"Control Group Std:\", control_std, \"\\nTreatment A Std:\", treatment_a_std, \"\\nTreatment B Std:\", treatment_b_std)\n",
    "\n",
    "# difference to real values\n",
    "\n",
    "print(\"Control Group Mean Difference:\", control_mean - real_control_mean, \"\\nTreatment A Mean Difference:\", treatment_a_mean - real_treatment_a_mean, \"\\nTreatment B Mean Difference:\", treatment_b_mean - real_treatment_b_mean)\n",
    "print(\"Control Group Std Difference:\", control_std - real_control_std, \"\\nTreatment A Std Difference:\", treatment_a_std - real_treatment_a_std, \"\\nTreatment B Std Difference:\", treatment_b_std - real_treatment_b_std)"
   ],
   "id": "8f74b3161e14e29f",
   "outputs": [
    {
     "name": "stdout",
     "output_type": "stream",
     "text": [
      "Control Group Mean: 80.38664111644651 \n",
      "Treatment A Mean: 75.70836237249156 \n",
      "Treatment B Mean: 40.175026436680724\n",
      "Control Group Std: 19.58431876359351 \n",
      "Treatment A Std: 9.974543772274208 \n",
      "Treatment B Std: 29.50362843306221\n",
      "Control Group Mean Difference: 0.386641116446512 \n",
      "Treatment A Mean Difference: 0.708362372491564 \n",
      "Treatment B Mean Difference: 0.17502643668072437\n",
      "Control Group Std Difference: -0.41568123640648835 \n",
      "Treatment A Std Difference: -0.025456227725792147 \n",
      "Treatment B Std Difference: -0.49637156693778905\n"
     ]
    }
   ],
   "execution_count": 19
  },
  {
   "metadata": {},
   "cell_type": "markdown",
   "source": [
    "# Hypothesis Testing\n",
    "### We want to know if the differences are significant.\n",
    "We assume that the data is normally distributed and that the variances are not equal. We will use the Welch's t-test to compare the means of the groups.\n",
    "\n",
    "### **Welch's t-test:**\n",
    "- Welch's t-test is a statistical test used to compare the means of two independent samples when the variances are not assumed to be equal.\n",
    "- It is an adaptation of the Student's t-test that provides more accurate results in the presence of unequal variances and sample sizes.\n",
    "- The test statistic is calculated as:\n",
    "$$\n",
    "t = \\frac{\\bar{X}_1 - \\bar{X}_2}{\\sqrt{\\frac{s_1^2}{n_1} + \\frac{s_2^2}{n_2}}}\n",
    "$$\n",
    "\n",
    "- The degrees of freedom are approximated using the Welch-Satterthwaite equation:\n",
    "$$\n",
    "\\nu \\approx \\frac{\\left(\\frac{s_1^2}{n_1} + \\frac{s_2^2}{n_2}\\right)^2}{\\frac{\\left(\\frac{s_1^2}{n_1}\\right)^2}{n_1 - 1} + \\frac{\\left(\\frac{s_2^2}{n_2}\\right)^2}{n_2 - 1}}\n",
    "$$"
   ],
   "id": "70579e87ef12f99a"
  },
  {
   "metadata": {
    "ExecuteTime": {
     "end_time": "2024-12-16T09:47:25.623054Z",
     "start_time": "2024-12-16T09:47:25.613871Z"
    }
   },
   "cell_type": "code",
   "source": [
    "# Test is Treatment A different from Control?\n",
    "\n",
    "data1 = data[data[\"group\"] == \"Control\"][\"Viability\"]\n",
    "data2 = data[data[\"group\"] == \"Treatment A\"][\"Viability\"]\n",
    "\n",
    "t_stat, p_value = stats.ttest_ind(data1, data2, equal_var=False)\n",
    "\n",
    "print(\"Welch’s t-Test Ergebnis:\")\n",
    "print(\"t-Statistik:\", t_stat)\n",
    "print(\"p-Wert:\", p_value)"
   ],
   "id": "7a72f8590e81640d",
   "outputs": [
    {
     "name": "stdout",
     "output_type": "stream",
     "text": [
      "Welch’s t-Test Ergebnis:\n",
      "t-Statistik: 6.731252256845402\n",
      "p-Wert: 2.3959017560119554e-11\n"
     ]
    }
   ],
   "execution_count": 20
  },
  {
   "metadata": {
    "ExecuteTime": {
     "end_time": "2024-12-16T09:47:25.630644Z",
     "start_time": "2024-12-16T09:47:25.624062Z"
    }
   },
   "cell_type": "code",
   "source": [
    "# Test is Treatment B different from Control?\n",
    "\n",
    "data1 = data[data[\"group\"] == \"Control\"][\"Viability\"]\n",
    "data2 = data[data[\"group\"] == \"Treatment B\"][\"Viability\"]\n",
    "\n",
    "t_stat, p_value = stats.ttest_ind(data1, data2, equal_var=False)\n",
    "\n",
    "print(\"Welch’s t-Test Ergebnis:\")\n",
    "print(\"t-Statistik:\", t_stat)\n",
    "print(\"p-Wert:\", p_value)"
   ],
   "id": "4d8e42350c20becf",
   "outputs": [
    {
     "name": "stdout",
     "output_type": "stream",
     "text": [
      "Welch’s t-Test Ergebnis:\n",
      "t-Statistik: 35.90881521858993\n",
      "p-Wert: 1.1608945957388129e-211\n"
     ]
    }
   ],
   "execution_count": 21
  },
  {
   "metadata": {
    "ExecuteTime": {
     "end_time": "2024-12-16T09:47:25.648604Z",
     "start_time": "2024-12-16T09:47:25.631652Z"
    }
   },
   "cell_type": "code",
   "source": [
    "# Effect Size\n",
    "\n",
    "def cohen_d(x,y):\n",
    "    nx = len(x)\n",
    "    ny = len(y)\n",
    "    dof = nx + ny - 2\n",
    "    return (np.mean(x) - np.mean(y)) / np.sqrt(((nx-1)*np.std(x, ddof=1) ** 2 + (ny-1)*np.std(y, ddof=1) ** 2) / dof)\n",
    "\n",
    "data1 = data[data[\"group\"] == \"Control\"][\"Viability\"]\n",
    "data2 = data[data[\"group\"] == \"Treatment A\"][\"Viability\"]\n",
    "data3 = data[data[\"group\"] == \"Treatment B\"][\"Viability\"]\n",
    "\n",
    "print(\"Effect Size Control vs. Treatment A:\", cohen_d(data1, data2))\n",
    "print(\"Effect Size Control vs. Treatment B:\", cohen_d(data1, data3))"
   ],
   "id": "5d91962ac502619d",
   "outputs": [
    {
     "name": "stdout",
     "output_type": "stream",
     "text": [
      "Effect Size Control vs. Treatment A: 0.3010307524001039\n",
      "Effect Size Control vs. Treatment B: 1.605891036404921\n"
     ]
    }
   ],
   "execution_count": 22
  },
  {
   "metadata": {},
   "cell_type": "markdown",
   "source": "# Multiple Hypothesis Testing",
   "id": "d767012247e7ab4d"
  }
 ],
 "metadata": {
  "kernelspec": {
   "display_name": "Python 3",
   "language": "python",
   "name": "python3"
  },
  "language_info": {
   "codemirror_mode": {
    "name": "ipython",
    "version": 2
   },
   "file_extension": ".py",
   "mimetype": "text/x-python",
   "name": "python",
   "nbconvert_exporter": "python",
   "pygments_lexer": "ipython2",
   "version": "2.7.6"
  }
 },
 "nbformat": 4,
 "nbformat_minor": 5
}
