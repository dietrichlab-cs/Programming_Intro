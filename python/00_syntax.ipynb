{
 "cells": [
  {
   "cell_type": "markdown",
   "id": "e865b328e92b804a",
   "metadata": {},
   "source": [
    "# Syntax and why it matters\n",
    "\n",
    "How do we approach a programming problem?\n",
    "\n",
    "## The fibonacci sequence\n",
    "\n",
    "The fibonacci sequence is a sequence of numbers where the number at index i is defined as the sum of the numbers at index n-2 and n-1.\n",
    "In other words, the sequence starts with the numbers 0 and 1, 0 + 1 is still 1, 1 + 1 = 2, 1 + 2 = 3, 2 + 3 = 5, and so on.\n",
    "\n",
    "The first few numbers in the sequence are 0, 1, 1, 2, 3, 5, 8, 13, 21, 34, 55, 89, 144\n",
    "\n",
    "How do we write code that computes a fibonacci number?\n",
    "\n",
    "## Start simple\n",
    "\n",
    "Let's start with just computing a few fibonacci numbers to get a feel for them  "
   ]
  },
  {
   "cell_type": "code",
   "execution_count": 2,
   "id": "7613835ffee4d548",
   "metadata": {
    "ExecuteTime": {
     "end_time": "2024-11-21T13:32:29.206572Z",
     "start_time": "2024-11-21T13:32:29.184909Z"
    }
   },
   "outputs": [
    {
     "name": "stdout",
     "output_type": "stream",
     "text": [
      "1\n",
      "2\n",
      "3\n",
      "5\n",
      "8\n"
     ]
    }
   ],
   "source": [
    "# 3rd fibonacci number after 0, 1\n",
    "fib_3rd = 0+1\n",
    "print(fib_3rd)\n",
    "# 4th \n",
    "fib_4th = fib_3rd + 1\n",
    "print(fib_4th)\n",
    "# 5th\n",
    "fib_5th = fib_3rd + fib_4th\n",
    "print(fib_5th)\n",
    "# 6th \n",
    "fib_6th = fib_4th + fib_5th\n",
    "print(fib_6th)\n",
    "# 7th\n",
    "fib_7th = fib_5th + fib_6th\n",
    "print(fib_7th)"
   ]
  },
  {
   "cell_type": "markdown",
   "id": "867fbfc651bb3991",
   "metadata": {},
   "source": [
    "Now that we have a feeling for the sequence we could hardcode it:"
   ]
  },
  {
   "cell_type": "code",
   "execution_count": null,
   "id": "62da4992589619a1",
   "metadata": {},
   "outputs": [],
   "source": [
    "target_n = 1\n",
    "if target_n == 0: print(0)\n",
    "if target_n == 1: print(1)\n",
    "if target_n == 2: print(1)\n",
    "if target_n == 3: print(2)\n",
    "if target_n == 4: print(3)\n",
    "if target_n == 5: print(5)\n",
    "if target_n == 6: print(8)"
   ]
  },
  {
   "cell_type": "markdown",
   "id": "95a97b0b26ce052f",
   "metadata": {},
   "source": [
    "This is a legitimate approach. But what happens if I ask you what the 139-th fibonacci number is? And you can't use Google.\n",
    "\n",
    "## Formulate the general problem\n",
    "\n",
    "We are given a number n. We want to compute the n-th number in the fibonacci sequence. \n",
    "\n",
    "This number is defined as $fib_n = fib_{n-2} + fib_{n-1}$\n",
    "\n",
    "## Write down your program in pseudocode\n",
    "\n",
    "Pseudocode is a programming language agnostic way of writing down your algorithm.\n",
    "\n",
    "In our case we need to perform the following steps:\n",
    "* Initialize a list $fib_{list}$ with n entries for all our fibonacci numbers and set them all to 0.\n",
    "* Prefill the first and second value as we need them for our formula from above (n-2 and n-1 need to be defined)\n",
    "* Iterative through the list and generate the next fibonacci number\n",
    "    * We can skip the first 2 entries, they are already initialized. So start at index i = 2\n",
    "    * We need to iterate up to n (exclusive, we start counting at 0)\n",
    "    * For each index i calculate the corresponding fibonacci number with $fib_i = fib_{i-2} + fib_{i-1}$\n",
    "\n",
    "A bit more formal\n",
    "```\n",
    "fibonacci(n) {\n",
    "    # initialize a list with n values (all are set to 0 in the beginning)\n",
    "    fib_list = [0] * n\n",
    "    # set the second value to one (second fibonacci number is 1)\n",
    "    fib_list[1] = 1\n",
    "    # we start the loop at 2 since the first and second solution (n = 0 and 1) are already in our list\n",
    "    # we count the index up to n (exclusive) -> so (index:fibonacci number) 0:0, 1:1, 2:1, 3:2, 4:3, 5:5, etc.\n",
    "    for each i between 2 and n {\n",
    "        fib_list[i] = fib_list[i-2] + fib_list[i-1]\n",
    "    }\n",
    "    # position n-1 is the last index we iterate (remember we start counting at 0)\n",
    "    return fib_list[n-1]\n",
    "}\n",
    "```\n",
    "\n",
    "## How do we get back to code now?\n",
    "\n",
    "The computer cannot understand our pseudocode since it is not standardized.\n",
    "I could have written it in german, or instead of `for each i between 2 and n` I could write `iterate i as an index of a sequence from 2 to n`.\n",
    "\n",
    "We need a standardized syntax which a predefined program on the computer can translate to machine code. \n",
    "\n",
    "The syntax defines\n",
    "* a standardized set of keywords (like `if`, `for`, etc.)\n",
    "* a way of arranging keywords, operations and variables\n",
    "* a way to comment our code, i.e. writing text which will be ignored by the computer\n",
    "\n",
    "\n",
    "\n",
    "With this knowledge you can look at the python syntax in `01_python_intro.ipynb`.\n",
    "But let's already start writing our fibonacci program in python.\n",
    "\n",
    "You will fairly quickly see, that python is already very close to our pseudocode implementation.\n",
    "\n",
    "## Step 1: Program the body of our function"
   ]
  },
  {
   "cell_type": "code",
   "execution_count": 5,
   "id": "9d5bc2c57c1efc0c",
   "metadata": {
    "ExecuteTime": {
     "end_time": "2024-11-21T14:14:50.391366Z",
     "start_time": "2024-11-21T14:14:50.379826Z"
    }
   },
   "outputs": [
    {
     "name": "stdout",
     "output_type": "stream",
     "text": [
      "5\n"
     ]
    }
   ],
   "source": [
    "# first let's define our target index\n",
    "n = 5\n",
    "# initialize our list\n",
    "fib_list = [0] * n\n",
    "fib_list[1] = 1\n",
    "# now the loop, range(2,n) will return a list with numbers between 2 (inclusive) and n (exclusive). So 2, 2, 3, 4, ..., n-1\n",
    "for i in range(2, n):\n",
    "    fib_list[i] = fib_list[i - 2] + fib_list[i - 1]\n",
    "# we haven't written a function, so we just print the result\n",
    "print(n)"
   ]
  },
  {
   "cell_type": "markdown",
   "id": "94815005c70010a3",
   "metadata": {},
   "source": [
    "## Moving towards a function\n",
    "\n",
    "If we wanted to get more than just one fibonacci number, we would need to duplicate our code:"
   ]
  },
  {
   "cell_type": "code",
   "execution_count": 8,
   "id": "622d6de061a20794",
   "metadata": {
    "ExecuteTime": {
     "end_time": "2024-11-21T14:16:52.363869Z",
     "start_time": "2024-11-21T14:16:52.349422Z"
    }
   },
   "outputs": [
    {
     "name": "stdout",
     "output_type": "stream",
     "text": [
      "First fibonacci run 1\n",
      "Second fibonacci run 2\n",
      "Third fibonacci run 3\n",
      "Fourth fibonacci run 30960598847965113057878492344\n"
     ]
    }
   ],
   "source": [
    "# first let's define our target index\n",
    "n = 3\n",
    "# initialize our list\n",
    "fib_list = [0] * n\n",
    "fib_list[1] = 1\n",
    "# now the loop, range(2,n) will return a list with numbers between 2 (inclusive) and n (exclusive). So 2, 2, 3, 4, ..., n-1\n",
    "for i in range(2, n):\n",
    "    fib_list[i] = fib_list[i - 2] + fib_list[i - 1]\n",
    "# we haven't written a function, so we just print the result\n",
    "print(\"First fibonacci run\", fib_list[n-1])\n",
    "\n",
    "# first let's define our target index\n",
    "n = 4\n",
    "# initialize our list\n",
    "fib_list = [0] * n\n",
    "fib_list[1] = 1\n",
    "# now the loop, range(2,n) will return a list with numbers between 2 (inclusive) and n (exclusive). So 2, 2, 3, 4, ..., n-1\n",
    "for i in range(2, n):\n",
    "    fib_list[i] = fib_list[i - 2] + fib_list[i - 1]\n",
    "# we haven't written a function, so we just print the result\n",
    "print(\"Second fibonacci run\", fib_list[n-1])\n",
    "\n",
    "# first let's define our target index\n",
    "n = 5\n",
    "# initialize our list\n",
    "fib_list = [0] * n\n",
    "fib_list[1] = 1\n",
    "# now the loop, range(2,n) will return a list with numbers between 2 (inclusive) and n (exclusive). So 2, 2, 3, 4, ..., n-1\n",
    "for i in range(2, n):\n",
    "    fib_list[i] = fib_list[i - 2] + fib_list[i - 1]\n",
    "# we haven't written a function, so we just print the result\n",
    "print(\"Third fibonacci run\", fib_list[n-1])\n",
    "\n",
    "# first let's define our target index\n",
    "n = 139\n",
    "# initialize our list\n",
    "fib_list = [0] * n\n",
    "fib_list[1] = 1\n",
    "# now the loop, range(2,n) will return a list with numbers between 2 (inclusive) and n (exclusive). So 2, 2, 3, 4, ..., n-1\n",
    "for i in range(2, n):\n",
    "    fib_list[i] = fib_list[i - 2] + fib_list[i - 1]\n",
    "# we haven't written a function, so we just print the result\n",
    "print(\"Fourth fibonacci run\", fib_list[n-1])"
   ]
  },
  {
   "cell_type": "markdown",
   "id": "ff5730fa8aee1fc4",
   "metadata": {},
   "source": []
  },
  {
   "cell_type": "markdown",
   "id": "6671628fee090e84",
   "metadata": {},
   "source": [
    "This is very tedious and error-prone. So it's better to generalize the code like we did in the pseudocode.\n",
    "\n",
    "So let's wrap our fibonacci code in a function!\n",
    "\n",
    "In python the keyword for a function is `def` followed a function name and round brackets indicating the arguments of it and a `:` to start the function body. \n",
    "All code within the function needs to be indented by a tab. In R we use `{}` brackets instead of indentation to tell the computer which code is part of the function.\n",
    "\n",
    "![image](images/functional_syntax.png)\n",
    "\n"
   ]
  },
  {
   "cell_type": "code",
   "execution_count": 9,
   "id": "7968cae5957559f6",
   "metadata": {
    "ExecuteTime": {
     "end_time": "2024-11-21T14:16:56.387798Z",
     "start_time": "2024-11-21T14:16:56.372187Z"
    }
   },
   "outputs": [
    {
     "name": "stdout",
     "output_type": "stream",
     "text": [
      "Third fibonacci number: 1\n",
      "Fourth fibonacci number: 2\n",
      "Fifth fibonacci number: 3\n",
      "139-th fibonacci number: 30960598847965113057878492344\n"
     ]
    }
   ],
   "source": [
    "def fibonacci(n):\n",
    "    # initialize our list\n",
    "    fib_list = [0] * n\n",
    "    fib_list[1] = 1\n",
    "    # now the loop, range(2,n) will return a list with numbers between 2 (inclusive) and n (exclusive). So 2, 2, 3, 4, ..., n-1\n",
    "    for i in range(2, n):\n",
    "        fib_list[i] = fib_list[i - 2] + fib_list[i - 1]\n",
    "    return fib_list[-1]\n",
    "\n",
    "print(\"Third fibonacci number:\", fibonacci(3))\n",
    "print(\"Fourth fibonacci number:\", fibonacci(4))\n",
    "print(\"Fifth fibonacci number:\", fibonacci(5))\n",
    "print(\"139-th fibonacci number:\", fibonacci(139))\n"
   ]
  },
  {
   "cell_type": "markdown",
   "id": "460826025ad88756",
   "metadata": {},
   "source": [
    "## Addon: So how did we do?\n",
    "\n",
    "In our implementation we are creating a list of length n. If n gets very large, this might allocate lots of memory. \n",
    "In this simple case for this problem, this should never really be an issue. But think about Files that are multiple GB in size. \n",
    "\n",
    "So how do we solve this? \n",
    "\n",
    "Let's ditch the list and just work with a `rolling` concept in which we update our result without keeping all the fibonacci numbers in a list."
   ]
  },
  {
   "cell_type": "code",
   "execution_count": 9,
   "id": "2621ba973e5f8bd9",
   "metadata": {},
   "outputs": [
    {
     "name": "stdout",
     "output_type": "stream",
     "text": [
      "Third fibonacci number: 1\n",
      "Fourth fibonacci number: 2\n",
      "Fifth fibonacci number: 3\n",
      "139-th fibonacci number: 30960598847965113057878492344\n"
     ]
    }
   ],
   "source": [
    "def rolling_fibonacci(n):\n",
    "    # initialize the first and second fibonacci value and a placeholder for our final result (set it to fib_{n-1})\n",
    "    fib_n2 = 0\n",
    "    fib_n1 = 1\n",
    "    fib_result = 1\n",
    "    # the loop index does not change\n",
    "    for i in range(2, n):\n",
    "        # calculate the new fibonacci number\n",
    "        fib_result = fib_n2 + fib_n1\n",
    "        # update fib_{n-2} and fib_{n-1}\n",
    "        fib_n2 = fib_n1\n",
    "        fib_n1 = fib_result\n",
    "    return fib_result\n",
    "\n",
    "print(\"Third fibonacci number:\", rolling_fibonacci(3))\n",
    "print(\"Fourth fibonacci number:\", rolling_fibonacci(4))\n",
    "print(\"Fifth fibonacci number:\", rolling_fibonacci(5))\n",
    "print(\"139-th fibonacci number:\", rolling_fibonacci(139))"
   ]
  }
 ],
 "metadata": {
  "kernelspec": {
   "display_name": "Python 3 (ipykernel)",
   "language": "python",
   "name": "python3"
  },
  "language_info": {
   "codemirror_mode": {
    "name": "ipython",
    "version": 3
   },
   "file_extension": ".py",
   "mimetype": "text/x-python",
   "name": "python",
   "nbconvert_exporter": "python",
   "pygments_lexer": "ipython3",
   "version": "3.10.15"
  }
 },
 "nbformat": 4,
 "nbformat_minor": 5
}
