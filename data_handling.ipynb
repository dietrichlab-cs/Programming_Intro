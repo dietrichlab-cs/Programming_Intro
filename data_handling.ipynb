{
 "cells": [
  {
   "metadata": {},
   "cell_type": "markdown",
   "source": "### In this notebook your will learn hot to handle data in Python using the Pandas and Numpy library.",
   "id": "f4f6426102104397"
  },
  {
   "metadata": {
    "ExecuteTime": {
     "end_time": "2024-09-09T12:04:06.268120Z",
     "start_time": "2024-09-09T12:04:06.264146Z"
    }
   },
   "cell_type": "code",
   "source": [
    "import pandas as pd\n",
    "import numpy as np\n",
    "import seaborn as sns"
   ],
   "id": "a3e8c783dbc1d412",
   "outputs": [],
   "execution_count": 1
  },
  {
   "metadata": {
    "ExecuteTime": {
     "end_time": "2024-09-09T12:04:06.379155Z",
     "start_time": "2024-09-09T12:04:06.347648Z"
    }
   },
   "cell_type": "code",
   "source": [
    "titanic = sns.load_dataset('titanic')\n",
    "titanic.to_csv('titanic.csv', index=False)"
   ],
   "id": "4147599614ee8ec",
   "outputs": [],
   "execution_count": 2
  },
  {
   "metadata": {},
   "cell_type": "markdown",
   "source": "### 1. Load data\n",
   "id": "730702cc6ccb6e0"
  },
  {
   "metadata": {
    "ExecuteTime": {
     "end_time": "2024-09-09T12:04:06.395984Z",
     "start_time": "2024-09-09T12:04:06.381161Z"
    }
   },
   "cell_type": "code",
   "source": [
    "# Load data from a csv file\n",
    "df_iris = pd.read_csv(\"iris.csv\")\n",
    "print(df_iris.head())\n",
    "print(df_iris.dtypes)"
   ],
   "id": "d9fb0420d75cf32c",
   "outputs": [
    {
     "name": "stdout",
     "output_type": "stream",
     "text": [
      "   sepal_length  sepal_width  petal_length  petal_width species\n",
      "0           5.1          3.5           1.4          0.2  setosa\n",
      "1           4.9          3.0           1.4          0.2  setosa\n",
      "2           4.7          3.2           1.3          0.2  setosa\n",
      "3           4.6          3.1           1.5          0.2  setosa\n",
      "4           5.0          3.6           1.4          0.2  setosa\n",
      "sepal_length    float64\n",
      "sepal_width     float64\n",
      "petal_length    float64\n",
      "petal_width     float64\n",
      "species          object\n",
      "dtype: object\n"
     ]
    }
   ],
   "execution_count": 3
  },
  {
   "metadata": {
    "ExecuteTime": {
     "end_time": "2024-09-09T12:04:06.409808Z",
     "start_time": "2024-09-09T12:04:06.396990Z"
    }
   },
   "cell_type": "code",
   "source": "print(df_iris.describe())",
   "id": "f056b23d51931a01",
   "outputs": [
    {
     "name": "stdout",
     "output_type": "stream",
     "text": [
      "       sepal_length  sepal_width  petal_length  petal_width\n",
      "count    150.000000   150.000000    150.000000   150.000000\n",
      "mean       5.843333     3.057333      3.758000     1.199333\n",
      "std        0.828066     0.435866      1.765298     0.762238\n",
      "min        4.300000     2.000000      1.000000     0.100000\n",
      "25%        5.100000     2.800000      1.600000     0.300000\n",
      "50%        5.800000     3.000000      4.350000     1.300000\n",
      "75%        6.400000     3.300000      5.100000     1.800000\n",
      "max        7.900000     4.400000      6.900000     2.500000\n"
     ]
    }
   ],
   "execution_count": 4
  },
  {
   "metadata": {},
   "cell_type": "markdown",
   "source": "### 2. Data selection and indexing",
   "id": "7d049cfccb16ffb0"
  },
  {
   "metadata": {
    "ExecuteTime": {
     "end_time": "2024-09-09T12:04:06.415886Z",
     "start_time": "2024-09-09T12:04:06.410814Z"
    }
   },
   "cell_type": "code",
   "source": [
    "# Select a column\n",
    "print(df_iris['sepal_length'])"
   ],
   "id": "e69b069cb7deee5e",
   "outputs": [
    {
     "name": "stdout",
     "output_type": "stream",
     "text": [
      "0      5.1\n",
      "1      4.9\n",
      "2      4.7\n",
      "3      4.6\n",
      "4      5.0\n",
      "      ... \n",
      "145    6.7\n",
      "146    6.3\n",
      "147    6.5\n",
      "148    6.2\n",
      "149    5.9\n",
      "Name: sepal_length, Length: 150, dtype: float64\n"
     ]
    }
   ],
   "execution_count": 5
  },
  {
   "metadata": {
    "ExecuteTime": {
     "end_time": "2024-09-09T12:04:06.426275Z",
     "start_time": "2024-09-09T12:04:06.417893Z"
    }
   },
   "cell_type": "code",
   "source": [
    "# Select multiple columns\n",
    "print(df_iris[['sepal_length', 'sepal_width']])"
   ],
   "id": "858f3ca44d44a697",
   "outputs": [
    {
     "name": "stdout",
     "output_type": "stream",
     "text": [
      "     sepal_length  sepal_width\n",
      "0             5.1          3.5\n",
      "1             4.9          3.0\n",
      "2             4.7          3.2\n",
      "3             4.6          3.1\n",
      "4             5.0          3.6\n",
      "..            ...          ...\n",
      "145           6.7          3.0\n",
      "146           6.3          2.5\n",
      "147           6.5          3.0\n",
      "148           6.2          3.4\n",
      "149           5.9          3.0\n",
      "\n",
      "[150 rows x 2 columns]\n"
     ]
    }
   ],
   "execution_count": 6
  },
  {
   "metadata": {
    "ExecuteTime": {
     "end_time": "2024-09-09T12:04:06.432405Z",
     "start_time": "2024-09-09T12:04:06.427282Z"
    }
   },
   "cell_type": "code",
   "source": [
    "# Find indexes that match a condition\n",
    "print(df_iris['sepal_length'] > 6.0)"
   ],
   "id": "1497c481f5024358",
   "outputs": [
    {
     "name": "stdout",
     "output_type": "stream",
     "text": [
      "0      False\n",
      "1      False\n",
      "2      False\n",
      "3      False\n",
      "4      False\n",
      "       ...  \n",
      "145     True\n",
      "146     True\n",
      "147     True\n",
      "148     True\n",
      "149    False\n",
      "Name: sepal_length, Length: 150, dtype: bool\n"
     ]
    }
   ],
   "execution_count": 7
  },
  {
   "metadata": {
    "ExecuteTime": {
     "end_time": "2024-09-09T12:04:06.441146Z",
     "start_time": "2024-09-09T12:04:06.433411Z"
    }
   },
   "cell_type": "code",
   "source": [
    "# Conditional selection\n",
    "print(df_iris[df_iris['sepal_length'] > 6.0])"
   ],
   "id": "7a7a70dd2ea61291",
   "outputs": [
    {
     "name": "stdout",
     "output_type": "stream",
     "text": [
      "     sepal_length  sepal_width  petal_length  petal_width     species\n",
      "50            7.0          3.2           4.7          1.4  versicolor\n",
      "51            6.4          3.2           4.5          1.5  versicolor\n",
      "52            6.9          3.1           4.9          1.5  versicolor\n",
      "54            6.5          2.8           4.6          1.5  versicolor\n",
      "56            6.3          3.3           4.7          1.6  versicolor\n",
      "..            ...          ...           ...          ...         ...\n",
      "144           6.7          3.3           5.7          2.5   virginica\n",
      "145           6.7          3.0           5.2          2.3   virginica\n",
      "146           6.3          2.5           5.0          1.9   virginica\n",
      "147           6.5          3.0           5.2          2.0   virginica\n",
      "148           6.2          3.4           5.4          2.3   virginica\n",
      "\n",
      "[61 rows x 5 columns]\n"
     ]
    }
   ],
   "execution_count": 8
  },
  {
   "metadata": {
    "ExecuteTime": {
     "end_time": "2024-09-09T12:04:06.456009Z",
     "start_time": "2024-09-09T12:04:06.442150Z"
    }
   },
   "cell_type": "code",
   "source": [
    "# Multiple conditions\n",
    "\n",
    "#and condition\n",
    "print(df_iris[(df_iris['sepal_length'] > 6.0) & (df_iris['species'] == 'versicolor')])\n",
    "\n",
    "#or condition\n",
    "print(df_iris[(df_iris['sepal_length'] > 6.0) | (df_iris['species'] == 'versicolor')])"
   ],
   "id": "4e9089e3697a9347",
   "outputs": [
    {
     "name": "stdout",
     "output_type": "stream",
     "text": [
      "    sepal_length  sepal_width  petal_length  petal_width     species\n",
      "50           7.0          3.2           4.7          1.4  versicolor\n",
      "51           6.4          3.2           4.5          1.5  versicolor\n",
      "52           6.9          3.1           4.9          1.5  versicolor\n",
      "54           6.5          2.8           4.6          1.5  versicolor\n",
      "56           6.3          3.3           4.7          1.6  versicolor\n",
      "58           6.6          2.9           4.6          1.3  versicolor\n",
      "63           6.1          2.9           4.7          1.4  versicolor\n",
      "65           6.7          3.1           4.4          1.4  versicolor\n",
      "68           6.2          2.2           4.5          1.5  versicolor\n",
      "71           6.1          2.8           4.0          1.3  versicolor\n",
      "72           6.3          2.5           4.9          1.5  versicolor\n",
      "73           6.1          2.8           4.7          1.2  versicolor\n",
      "74           6.4          2.9           4.3          1.3  versicolor\n",
      "75           6.6          3.0           4.4          1.4  versicolor\n",
      "76           6.8          2.8           4.8          1.4  versicolor\n",
      "77           6.7          3.0           5.0          1.7  versicolor\n",
      "86           6.7          3.1           4.7          1.5  versicolor\n",
      "87           6.3          2.3           4.4          1.3  versicolor\n",
      "91           6.1          3.0           4.6          1.4  versicolor\n",
      "97           6.2          2.9           4.3          1.3  versicolor\n",
      "     sepal_length  sepal_width  petal_length  petal_width     species\n",
      "50            7.0          3.2           4.7          1.4  versicolor\n",
      "51            6.4          3.2           4.5          1.5  versicolor\n",
      "52            6.9          3.1           4.9          1.5  versicolor\n",
      "53            5.5          2.3           4.0          1.3  versicolor\n",
      "54            6.5          2.8           4.6          1.5  versicolor\n",
      "..            ...          ...           ...          ...         ...\n",
      "144           6.7          3.3           5.7          2.5   virginica\n",
      "145           6.7          3.0           5.2          2.3   virginica\n",
      "146           6.3          2.5           5.0          1.9   virginica\n",
      "147           6.5          3.0           5.2          2.0   virginica\n",
      "148           6.2          3.4           5.4          2.3   virginica\n",
      "\n",
      "[91 rows x 5 columns]\n"
     ]
    }
   ],
   "execution_count": 9
  },
  {
   "metadata": {
    "ExecuteTime": {
     "end_time": "2024-09-09T12:04:06.471872Z",
     "start_time": "2024-09-09T12:04:06.463015Z"
    }
   },
   "cell_type": "code",
   "source": [
    "#or condition\n",
    "print(df_iris[(df_iris['sepal_length'] > 6.0) | (df_iris['species'] == 'versicolor')])"
   ],
   "id": "5f6fce16dfca6114",
   "outputs": [
    {
     "name": "stdout",
     "output_type": "stream",
     "text": [
      "     sepal_length  sepal_width  petal_length  petal_width     species\n",
      "50            7.0          3.2           4.7          1.4  versicolor\n",
      "51            6.4          3.2           4.5          1.5  versicolor\n",
      "52            6.9          3.1           4.9          1.5  versicolor\n",
      "53            5.5          2.3           4.0          1.3  versicolor\n",
      "54            6.5          2.8           4.6          1.5  versicolor\n",
      "..            ...          ...           ...          ...         ...\n",
      "144           6.7          3.3           5.7          2.5   virginica\n",
      "145           6.7          3.0           5.2          2.3   virginica\n",
      "146           6.3          2.5           5.0          1.9   virginica\n",
      "147           6.5          3.0           5.2          2.0   virginica\n",
      "148           6.2          3.4           5.4          2.3   virginica\n",
      "\n",
      "[91 rows x 5 columns]\n"
     ]
    }
   ],
   "execution_count": 10
  },
  {
   "metadata": {},
   "cell_type": "markdown",
   "source": "### 3.Handling Missing Data",
   "id": "94294e34aa79115a"
  },
  {
   "metadata": {
    "ExecuteTime": {
     "end_time": "2024-09-09T12:04:06.488549Z",
     "start_time": "2024-09-09T12:04:06.484882Z"
    }
   },
   "cell_type": "code",
   "source": "",
   "id": "b401c7e496cb7680",
   "outputs": [],
   "execution_count": 10
  },
  {
   "metadata": {
    "ExecuteTime": {
     "end_time": "2024-09-09T12:04:06.534721Z",
     "start_time": "2024-09-09T12:04:06.518069Z"
    }
   },
   "cell_type": "code",
   "source": [
    "# Check for missing data\n",
    "df_titanic = pd.read_csv(\"titanic.csv\")\n",
    "missing_data = df_titanic.isnull().sum()\n",
    "print(missing_data)\n",
    "print(df_titanic.head())"
   ],
   "id": "bcd6bcfe3c79575d",
   "outputs": [
    {
     "name": "stdout",
     "output_type": "stream",
     "text": [
      "survived         0\n",
      "pclass           0\n",
      "sex              0\n",
      "age            177\n",
      "sibsp            0\n",
      "parch            0\n",
      "fare             0\n",
      "embarked         2\n",
      "class            0\n",
      "who              0\n",
      "adult_male       0\n",
      "deck           688\n",
      "embark_town      2\n",
      "alive            0\n",
      "alone            0\n",
      "dtype: int64\n",
      "   survived  pclass     sex   age  sibsp  parch     fare embarked  class  \\\n",
      "0         0       3    male  22.0      1      0   7.2500        S  Third   \n",
      "1         1       1  female  38.0      1      0  71.2833        C  First   \n",
      "2         1       3  female  26.0      0      0   7.9250        S  Third   \n",
      "3         1       1  female  35.0      1      0  53.1000        S  First   \n",
      "4         0       3    male  35.0      0      0   8.0500        S  Third   \n",
      "\n",
      "     who  adult_male deck  embark_town alive  alone  \n",
      "0    man        True  NaN  Southampton    no  False  \n",
      "1  woman       False    C    Cherbourg   yes  False  \n",
      "2  woman       False  NaN  Southampton   yes   True  \n",
      "3  woman       False    C  Southampton   yes  False  \n",
      "4    man        True  NaN  Southampton    no   True  \n"
     ]
    }
   ],
   "execution_count": 11
  },
  {
   "metadata": {
    "ExecuteTime": {
     "end_time": "2024-09-09T12:04:06.603005Z",
     "start_time": "2024-09-09T12:04:06.591734Z"
    }
   },
   "cell_type": "code",
   "source": [
    "# Option 1: Drop missing data\n",
    "df_titanic = pd.read_csv(\"titanic.csv\")\n",
    "df_titanic.dropna(inplace=True)\n",
    "print(df_titanic.isnull().sum())\n",
    "print(len(df_titanic))"
   ],
   "id": "422814805e191327",
   "outputs": [
    {
     "name": "stdout",
     "output_type": "stream",
     "text": [
      "survived       0\n",
      "pclass         0\n",
      "sex            0\n",
      "age            0\n",
      "sibsp          0\n",
      "parch          0\n",
      "fare           0\n",
      "embarked       0\n",
      "class          0\n",
      "who            0\n",
      "adult_male     0\n",
      "deck           0\n",
      "embark_town    0\n",
      "alive          0\n",
      "alone          0\n",
      "dtype: int64\n",
      "182\n"
     ]
    }
   ],
   "execution_count": 12
  },
  {
   "metadata": {
    "ExecuteTime": {
     "end_time": "2024-09-09T12:04:06.632201Z",
     "start_time": "2024-09-09T12:04:06.623010Z"
    }
   },
   "cell_type": "code",
   "source": [
    "# Option 2: Fill missing data\n",
    "df_titanic = pd.read_csv(\"titanic.csv\")\n",
    "df_titanic.fillna(0, inplace=True)\n",
    "print(df_titanic.isnull().sum())\n",
    "print(len(df_titanic))"
   ],
   "id": "519d38d0e02c0d8f",
   "outputs": [
    {
     "name": "stdout",
     "output_type": "stream",
     "text": [
      "survived       0\n",
      "pclass         0\n",
      "sex            0\n",
      "age            0\n",
      "sibsp          0\n",
      "parch          0\n",
      "fare           0\n",
      "embarked       0\n",
      "class          0\n",
      "who            0\n",
      "adult_male     0\n",
      "deck           0\n",
      "embark_town    0\n",
      "alive          0\n",
      "alone          0\n",
      "dtype: int64\n",
      "891\n"
     ]
    }
   ],
   "execution_count": 13
  },
  {
   "metadata": {
    "ExecuteTime": {
     "end_time": "2024-09-09T12:04:06.674141Z",
     "start_time": "2024-09-09T12:04:06.663206Z"
    }
   },
   "cell_type": "code",
   "source": [
    "# Option 3: Fill missing data with the mean\n",
    "df_titanic = pd.read_csv(\"titanic.csv\")\n",
    "df_titanic['age']=df_titanic['age'].fillna(df_titanic['age'].mean())\n",
    "print(df_titanic.isnull().sum())"
   ],
   "id": "d0168b3ae17bd061",
   "outputs": [
    {
     "name": "stdout",
     "output_type": "stream",
     "text": [
      "survived         0\n",
      "pclass           0\n",
      "sex              0\n",
      "age              0\n",
      "sibsp            0\n",
      "parch            0\n",
      "fare             0\n",
      "embarked         2\n",
      "class            0\n",
      "who              0\n",
      "adult_male       0\n",
      "deck           688\n",
      "embark_town      2\n",
      "alive            0\n",
      "alone            0\n",
      "dtype: int64\n"
     ]
    }
   ],
   "execution_count": 14
  },
  {
   "metadata": {
    "ExecuteTime": {
     "end_time": "2024-09-09T12:04:06.691941Z",
     "start_time": "2024-09-09T12:04:06.680147Z"
    }
   },
   "cell_type": "code",
   "source": [
    "# Option 4: Filling missing  values with the most frequent value\n",
    "df_titanic = pd.read_csv(\"titanic.csv\")\n",
    "df_titanic['embarked']=df_titanic['embarked'].fillna(df_titanic['embarked'].mode()[0])\n",
    "print(df_titanic.isnull().sum())"
   ],
   "id": "4a9f4c654c6a403c",
   "outputs": [
    {
     "name": "stdout",
     "output_type": "stream",
     "text": [
      "survived         0\n",
      "pclass           0\n",
      "sex              0\n",
      "age            177\n",
      "sibsp            0\n",
      "parch            0\n",
      "fare             0\n",
      "embarked         0\n",
      "class            0\n",
      "who              0\n",
      "adult_male       0\n",
      "deck           688\n",
      "embark_town      2\n",
      "alive            0\n",
      "alone            0\n",
      "dtype: int64\n"
     ]
    }
   ],
   "execution_count": 15
  },
  {
   "metadata": {
    "ExecuteTime": {
     "end_time": "2024-09-09T12:04:06.703700Z",
     "start_time": "2024-09-09T12:04:06.693947Z"
    }
   },
   "cell_type": "code",
   "source": [
    "# Renaming columns\n",
    "df_titanic = pd.read_csv(\"titanic.csv\")\n",
    "df_titanic.rename(columns = {'class': 'ticket_class' }, inplace=True)\n",
    "print(df_titanic.head())"
   ],
   "id": "e7d4b0a6b4cf56f2",
   "outputs": [
    {
     "name": "stdout",
     "output_type": "stream",
     "text": [
      "   survived  pclass     sex   age  sibsp  parch     fare embarked  \\\n",
      "0         0       3    male  22.0      1      0   7.2500        S   \n",
      "1         1       1  female  38.0      1      0  71.2833        C   \n",
      "2         1       3  female  26.0      0      0   7.9250        S   \n",
      "3         1       1  female  35.0      1      0  53.1000        S   \n",
      "4         0       3    male  35.0      0      0   8.0500        S   \n",
      "\n",
      "  ticket_class    who  adult_male deck  embark_town alive  alone  \n",
      "0        Third    man        True  NaN  Southampton    no  False  \n",
      "1        First  woman       False    C    Cherbourg   yes  False  \n",
      "2        Third  woman       False  NaN  Southampton   yes   True  \n",
      "3        First  woman       False    C  Southampton   yes  False  \n",
      "4        Third    man        True  NaN  Southampton    no   True  \n"
     ]
    }
   ],
   "execution_count": 16
  },
  {
   "metadata": {},
   "cell_type": "markdown",
   "source": "### Apply functions to rows",
   "id": "3bc09321df6d8b5a"
  },
  {
   "metadata": {
    "ExecuteTime": {
     "end_time": "2024-09-09T12:04:07.091005Z",
     "start_time": "2024-09-09T12:04:06.709705Z"
    }
   },
   "cell_type": "code",
   "source": [
    "diamonds = pd.read_csv(\"diamonds.csv\")\n",
    "\n",
    "\n",
    "def price_per_carat(row):\n",
    "    return row['price'] / row['carat'] if row['carat'] > 0 else 0\n",
    "\n",
    "diamonds['price_per_carat'] = diamonds.apply(price_per_carat, axis=1)\n",
    "\n",
    "print(diamonds[['carat', 'price', 'price_per_carat']])"
   ],
   "id": "8e94fc2767c9bf49",
   "outputs": [
    {
     "name": "stdout",
     "output_type": "stream",
     "text": [
      "       carat  price  price_per_carat\n",
      "0       0.23    326      1417.391304\n",
      "1       0.21    326      1552.380952\n",
      "2       0.23    327      1421.739130\n",
      "3       0.29    334      1151.724138\n",
      "4       0.31    335      1080.645161\n",
      "...      ...    ...              ...\n",
      "53935   0.72   2757      3829.166667\n",
      "53936   0.72   2757      3829.166667\n",
      "53937   0.70   2757      3938.571429\n",
      "53938   0.86   2757      3205.813953\n",
      "53939   0.75   2757      3676.000000\n",
      "\n",
      "[53940 rows x 3 columns]\n"
     ]
    }
   ],
   "execution_count": 17
  },
  {
   "metadata": {},
   "cell_type": "markdown",
   "source": " #### Data Aggregation and Grouping",
   "id": "30de0f116114d830"
  },
  {
   "metadata": {
    "ExecuteTime": {
     "end_time": "2024-09-09T12:04:07.102109Z",
     "start_time": "2024-09-09T12:04:07.092011Z"
    }
   },
   "cell_type": "code",
   "source": [
    "# Group by a column\n",
    "df_iris = pd.read_csv(\"iris.csv\")\n",
    "grouped = df_iris.groupby('species')\n",
    "print(grouped.mean())\n",
    "\n",
    "#alternative way\n",
    "print(df_iris.pivot_table(index='species', aggfunc=\"mean\"))"
   ],
   "id": "f404d14ea1288c17",
   "outputs": [
    {
     "name": "stdout",
     "output_type": "stream",
     "text": [
      "            sepal_length  sepal_width  petal_length  petal_width\n",
      "species                                                         \n",
      "setosa             5.006        3.428         1.462        0.246\n",
      "versicolor         5.936        2.770         4.260        1.326\n",
      "virginica          6.588        2.974         5.552        2.026\n",
      "            petal_length  petal_width  sepal_length  sepal_width\n",
      "species                                                         \n",
      "setosa             1.462        0.246         5.006        3.428\n",
      "versicolor         4.260        1.326         5.936        2.770\n",
      "virginica          5.552        2.026         6.588        2.974\n"
     ]
    }
   ],
   "execution_count": 18
  },
  {
   "metadata": {},
   "cell_type": "markdown",
   "source": "# Merging and Joining DataFrames",
   "id": "5862b5d4ef600d1e"
  },
  {
   "metadata": {
    "ExecuteTime": {
     "end_time": "2024-09-09T12:04:07.120153Z",
     "start_time": "2024-09-09T12:04:07.103116Z"
    }
   },
   "cell_type": "code",
   "source": [
    "# Create DataFrames df1 and df2\n",
    "df1 = pd.DataFrame({\n",
    "    'A': ['A0', 'A1', 'A2', 'A3'],\n",
    "    'B': ['B0', 'B1', 'B2', 'B3'],\n",
    "    'key': ['K0', 'K1', 'K2', 'K3']})\n",
    "\n",
    "df2 = pd.DataFrame({\n",
    "    'C': ['C0', 'C1', 'C2', 'C3'],\n",
    "    'D': ['D0', 'D1', 'D2', 'D3'],\n",
    "    'key': ['K0', 'K1', 'K2', 'K4']})\n",
    "\n",
    "# Display the DataFrames\n",
    "print(\"DataFrame 1 (df1):\")\n",
    "print(df1)\n",
    "print(\"\\nDataFrame 2 (df2):\")\n",
    "print(df2)\n",
    "\n",
    "# Inner Join: Keeps only rows with matching keys in both DataFrames\n",
    "print(\"\\nInner Join:\")\n",
    "inner_join = pd.merge(df1, df2, on='key', how='inner')\n",
    "print(inner_join)\n",
    "\n",
    "# Left Join: Keeps all rows from df1 and adds matching rows from df2\n",
    "print(\"\\nLeft Join:\")\n",
    "left_join = pd.merge(df1, df2, on='key', how='left')\n",
    "print(left_join)\n",
    "\n",
    "# Right Join: Keeps all rows from df2 and adds matching rows from df1\n",
    "print(\"\\nRight Join:\")\n",
    "right_join = pd.merge(df1, df2, on='key', how='right')\n",
    "print(right_join)\n",
    "\n",
    "# Outer Join: Keeps all rows from both DataFrames, filling in NaN for missing matches\n",
    "print(\"\\nOuter Join:\")\n",
    "outer_join = pd.merge(df1, df2, on='key', how='outer')\n",
    "print(outer_join)\n"
   ],
   "id": "c2aaec033928a80f",
   "outputs": [
    {
     "name": "stdout",
     "output_type": "stream",
     "text": [
      "DataFrame 1 (df1):\n",
      "    A   B key\n",
      "0  A0  B0  K0\n",
      "1  A1  B1  K1\n",
      "2  A2  B2  K2\n",
      "3  A3  B3  K3\n",
      "\n",
      "DataFrame 2 (df2):\n",
      "    C   D key\n",
      "0  C0  D0  K0\n",
      "1  C1  D1  K1\n",
      "2  C2  D2  K2\n",
      "3  C3  D3  K4\n",
      "\n",
      "Inner Join:\n",
      "    A   B key   C   D\n",
      "0  A0  B0  K0  C0  D0\n",
      "1  A1  B1  K1  C1  D1\n",
      "2  A2  B2  K2  C2  D2\n",
      "\n",
      "Left Join:\n",
      "    A   B key    C    D\n",
      "0  A0  B0  K0   C0   D0\n",
      "1  A1  B1  K1   C1   D1\n",
      "2  A2  B2  K2   C2   D2\n",
      "3  A3  B3  K3  NaN  NaN\n",
      "\n",
      "Right Join:\n",
      "     A    B key   C   D\n",
      "0   A0   B0  K0  C0  D0\n",
      "1   A1   B1  K1  C1  D1\n",
      "2   A2   B2  K2  C2  D2\n",
      "3  NaN  NaN  K4  C3  D3\n",
      "\n",
      "Outer Join:\n",
      "     A    B key    C    D\n",
      "0   A0   B0  K0   C0   D0\n",
      "1   A1   B1  K1   C1   D1\n",
      "2   A2   B2  K2   C2   D2\n",
      "3   A3   B3  K3  NaN  NaN\n",
      "4  NaN  NaN  K4   C3   D3\n"
     ]
    }
   ],
   "execution_count": 19
  },
  {
   "metadata": {},
   "cell_type": "markdown",
   "source": "### Concatenating DataFrames",
   "id": "c4adbdbf64da1784"
  },
  {
   "metadata": {
    "ExecuteTime": {
     "end_time": "2024-09-09T12:04:07.128317Z",
     "start_time": "2024-09-09T12:04:07.121163Z"
    }
   },
   "cell_type": "code",
   "source": [
    "# Create DataFrames df1 and df2\n",
    "df1 = pd.DataFrame({\n",
    "    'A': ['A0', 'A1', 'A2', 'A3'],\n",
    "    'B': ['B0', 'B1', 'B2', 'B3'],\n",
    "    'key': ['K0', 'K1', 'K2', 'K3']})\n",
    "\n",
    "df2 = pd.DataFrame({\n",
    "    'A': ['A4', 'A5', 'A6', 'A7'],\n",
    "    'B': ['B4', 'B5', 'B6', 'B7'],\n",
    "    'key': ['K4', 'K5', 'K6', 'K7']})\n",
    "\n",
    "# Display the DataFrames\n",
    "print(\"DataFrame 1 (df1):\")\n",
    "print(df1)\n",
    "print(\"\\nDataFrame 2 (df2):\")\n",
    "print(df2)\n",
    "\n",
    "# Concatenate the DataFrames\n",
    "print(\"\\nConcatenated DataFrame:\")\n",
    "concatenated = pd.concat([df1, df2])\n",
    "print(concatenated)"
   ],
   "id": "4276e21be5ba8385",
   "outputs": [
    {
     "name": "stdout",
     "output_type": "stream",
     "text": [
      "DataFrame 1 (df1):\n",
      "    A   B key\n",
      "0  A0  B0  K0\n",
      "1  A1  B1  K1\n",
      "2  A2  B2  K2\n",
      "3  A3  B3  K3\n",
      "\n",
      "DataFrame 2 (df2):\n",
      "    A   B key\n",
      "0  A4  B4  K4\n",
      "1  A5  B5  K5\n",
      "2  A6  B6  K6\n",
      "3  A7  B7  K7\n",
      "\n",
      "Concatenated DataFrame:\n",
      "    A   B key\n",
      "0  A0  B0  K0\n",
      "1  A1  B1  K1\n",
      "2  A2  B2  K2\n",
      "3  A3  B3  K3\n",
      "0  A4  B4  K4\n",
      "1  A5  B5  K5\n",
      "2  A6  B6  K6\n",
      "3  A7  B7  K7\n"
     ]
    }
   ],
   "execution_count": 20
  }
 ],
 "metadata": {
  "kernelspec": {
   "display_name": "Python 3",
   "language": "python",
   "name": "python3"
  },
  "language_info": {
   "codemirror_mode": {
    "name": "ipython",
    "version": 2
   },
   "file_extension": ".py",
   "mimetype": "text/x-python",
   "name": "python",
   "nbconvert_exporter": "python",
   "pygments_lexer": "ipython2",
   "version": "2.7.6"
  }
 },
 "nbformat": 4,
 "nbformat_minor": 5
}
