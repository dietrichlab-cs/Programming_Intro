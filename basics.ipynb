{
 "cells": [
  {
   "cell_type": "markdown",
   "id": "8a749f518f50aab5",
   "metadata": {},
   "source": [
    "\n",
    "### 0) Hello World\n",
    "\n",
    "The first program you usually write in any programming language prints a message to the screen saying \"Hello, World!\". This demonstrates how Python handles text output and how to display information to the user.\n",
    "\n",
    "- **The `print()` function**: The `print()` function in Python displays output on the screen. Anything placed inside the parentheses will be shown to the user. It can be text (strings), numbers, or other data types.\n",
    "\n",
    "**Example**:\n",
    "```python\n",
    "print(\"Hello, World!\")\n",
    "```\n"
   ]
  },
  {
   "cell_type": "code",
   "execution_count": 1,
   "id": "eaed22492783eaf",
   "metadata": {
    "ExecuteTime": {
     "end_time": "2024-09-09T07:55:24.681254Z",
     "start_time": "2024-09-09T07:55:24.674061Z"
    }
   },
   "outputs": [
    {
     "name": "stdout",
     "output_type": "stream",
     "text": [
      "Hello World\n"
     ]
    }
   ],
   "source": [
    "print(\"Hello World\")"
   ]
  },
  {
   "cell_type": "markdown",
   "id": "e5c990b6419c09d",
   "metadata": {},
   "source": [
    "\n",
    "### 1) Variables and Data Types\n",
    "\n",
    "Variables are containers used to store data. Python supports several data types, including:\n",
    "\n",
    "- **String (`str`)**: Represents text, enclosed in quotes.\n",
    "- **Integer (`int`)**: Whole numbers, without decimal points.\n",
    "- **Float (`float`)**: Numbers with decimal points.\n",
    "- **Boolean (`bool`)**: True or False values.\n",
    "- **List (`list`)**: An ordered collection of items.\n",
    "- **Tuple (`tuple`)**: Similar to lists, but immutable.\n",
    "- **Dictionary (`dict`)**: Stores key-value pairs.\n",
    "\n",
    "You can use the `type()` function to check the data type of a variable.\n",
    "\n",
    "**Example**:\n",
    "```python\n",
    "my_string = \"Hello, World!\"  # String\n",
    "my_int = 42  # Integer\n",
    "my_float = 3.14159  # Float\n",
    "my_bool = True  # Boolean\n",
    "my_list = [1, 2, 3, \"apple\"]  # List\n",
    "my_tuple = (10, 20, 30)  # Tuple\n",
    "my_dict = {\"name\": \"Alice\", \"age\": 25}  # Dictionary\n",
    "\n",
    "print(type(my_string))  # Output: <class 'str'>\n",
    "```\n"
   ]
  },
  {
   "cell_type": "code",
   "execution_count": 4,
   "id": "a986057b31f62a3f",
   "metadata": {
    "ExecuteTime": {
     "end_time": "2024-09-09T08:09:47.469381Z",
     "start_time": "2024-09-09T08:09:47.464162Z"
    }
   },
   "outputs": [
    {
     "name": "stdout",
     "output_type": "stream",
     "text": [
      "<class 'str'>\n",
      "<class 'int'>\n",
      "<class 'float'>\n",
      "<class 'bool'>\n",
      "<class 'list'>\n",
      "<class 'tuple'>\n",
      "<class 'dict'>\n",
      "<class 'NoneType'>\n",
      "<class 'tuple'>\n"
     ]
    }
   ],
   "source": [
    "# Different data types in Python\n",
    "my_string = \"Hello, World!\"  # String\n",
    "my_int = 42  # Integer\n",
    "my_float = 3.14159  # Float\n",
    "my_bool = True  # Boolean\n",
    "my_list = [1, 2, 3, \"apple\"]  # List\n",
    "my_tuple = (10, 20, 30)  # Tuple\n",
    "my_dict = {\"name\": \"Alice\", \"age\": 25}  # Dictionary\n",
    "my_none = None  # NoneType\n",
    "my_touple = (1,2,3) # Touple, not changeable list \n",
    "\n",
    "\n",
    "\n",
    "# Print the types of each variable\n",
    "print(type(my_string))\n",
    "print(type(my_int))\n",
    "print(type(my_float))\n",
    "print(type(my_bool))\n",
    "print(type(my_list))\n",
    "print(type(my_tuple))\n",
    "print(type(my_dict))\n",
    "print(type(my_none))\n",
    "print(type(my_touple))"
   ]
  },
  {
   "metadata": {},
   "cell_type": "markdown",
   "source": "Basic operations in Python include arithmetic, comparison, logical, and membership operations. These operations are used to perform calculations, compare values, and check if an item exists in a collection.",
   "id": "6f197c8eaea7282a"
  },
  {
   "metadata": {},
   "cell_type": "markdown",
   "source": "",
   "id": "a5a6604cf2fe5893"
  },
  {
   "metadata": {},
   "cell_type": "code",
   "outputs": [
    {
     "name": "stdout",
     "output_type": "stream",
     "text": [
      "Addition 13\n",
      "Subtraction 7\n",
      "Multiplication 30\n",
      "Division 3.3333333333333335\n",
      "Modulus 1\n",
      "Exponentiation 1000\n",
      "Floor Division 3\n"
     ]
    }
   ],
   "execution_count": 5,
   "source": [
    "# Arithmetic operators\n",
    "x = 10\n",
    "y = 3\n",
    "print(\"Addition\",x + y)  # Addition\n",
    "print(\"Subtraction\",x - y) # Subtraction\n",
    "print(\"Multiplication\",x * y)  # Multiplication\n",
    "print(\"Division\",x / y)  # Division\n",
    "print(\"Modulus\",x % y)  # Modulus\n",
    "print(\"Exponentiation\",x ** y)  # Exponentiation\n",
    "print(\"Floor Division\",x // y)  # Floor Division\n"
   ],
   "id": "5a46afe2429104bf"
  },
  {
   "metadata": {},
   "cell_type": "code",
   "outputs": [
    {
     "name": "stdout",
     "output_type": "stream",
     "text": [
      "x==y (Equality Comparison) =>  False\n",
      "x!=y (Inequality Comparison) =>  True\n",
      "x>y (Greater Than) =>  True\n",
      "x<y (Less Than) =>  False\n",
      "x>=y (Greater Than or Equal to) =>  True\n",
      "x<=y (Less Than or Equal to) =>  False\n"
     ]
    }
   ],
   "execution_count": 8,
   "source": [
    "# Comparison operators\n",
    "x = 10\n",
    "y = 3\n",
    "\n",
    "print(\"x==y (Equality Comparison) => \",x == y)  # Equal\n",
    "print(\"x!=y (Inequality Comparison) => \",x != y)  # Not equal\n",
    "print(\"x>y (Greater Than) => \",x > y)  # Greater than\n",
    "print(\"x<y (Less Than) => \",x < y)  # Less than\n",
    "print(\"x>=y (Greater Than or Equal to) => \",x >= y)  # Greater than or equal to\n",
    "print(\"x<=y (Less Than or Equal to) => \",x <= y)  # Less than or equal to\n"
   ],
   "id": "905168cc77997bca"
  },
  {
   "cell_type": "code",
   "execution_count": 13,
   "id": "e08d7dfd3a4e989f",
   "metadata": {
    "ExecuteTime": {
     "end_time": "2024-09-09T08:16:50.638349Z",
     "start_time": "2024-09-09T08:16:50.635148Z"
    }
   },
   "outputs": [
    {
     "name": "stdout",
     "output_type": "stream",
     "text": [
      "(x > 3) and (y < 3) [and] =>  False\n",
      "(x > 3) or (y < 3) [or] =>  True\n",
      "not(x > 3) [negation] =>  False\n"
     ]
    }
   ],
   "source": [
    "# Logical operators\n",
    "\n",
    "x = 10\n",
    "y = 3\n",
    "\n",
    "print(\"(x > 3) and (y < 3) [and] => \",x > 3 and y < 3)  # and\n",
    "print(\"(x > 3) or (y < 3) [or] => \",x > 3 or y < 3)  # or\n",
    "print(\"not(x > 3) [negation] => \",not(x > 3))  # not"
   ]
  },
  {
   "cell_type": "code",
   "execution_count": 14,
   "id": "a957384e8cf13415",
   "metadata": {
    "ExecuteTime": {
     "end_time": "2024-09-09T08:17:49.528141Z",
     "start_time": "2024-09-09T08:17:49.524127Z"
    }
   },
   "outputs": [
    {
     "name": "stdout",
     "output_type": "stream",
     "text": [
      "x in my_list =>  True\n",
      "y not in my_list =>  True\n"
     ]
    }
   ],
   "source": [
    "# Membership operators\n",
    "\n",
    "my_list = [1, 2, 3, 4, 5]\n",
    "x = 3\n",
    "y = 10\n",
    "\n",
    "print(\"x in my_list => \",x in my_list)  # in\n",
    "print(\"y not in my_list => \",y not in my_list)  # not in"
   ]
  },
  {
   "metadata": {},
   "cell_type": "markdown",
   "source": [
    "\n",
    "### 2) Lists\n",
    "\n",
    "Lists are collections that allow you to store multiple items. You can perform many operations on lists such as accessing elements, modifying them, adding or removing items, and more.\n",
    "\n",
    "**Common list operations**:\n",
    "- Access elements by index.\n",
    "- Use negative indexing to access items from the end.\n",
    "- Slice lists to extract portions.\n",
    "- Modify elements, add new elements, and remove items.\n",
    "- Check if an item exists in a list with the `in` operator.\n",
    "- Find the length of a list using the `len()` function.\n"
   ],
   "id": "c33ad89914ad97ef"
  },
  {
   "metadata": {},
   "cell_type": "code",
   "outputs": [
    {
     "name": "stdout",
     "output_type": "stream",
     "text": [
      "1\n",
      "5\n",
      "[2, 3]\n",
      "[10, 2, 3, 4, 5, 6]\n",
      "6\n"
     ]
    }
   ],
   "execution_count": 19,
   "source": [
    "my_list = [1, 2, 3, 4, 5]\n",
    "print(my_list[0])  # Output: 1\n",
    "print(my_list[-1])  # Output: 5\n",
    "print(my_list[1:3])  # Output: [2, 3]\n",
    "\n",
    "my_list[0] = 10  # Modifying an element\n",
    "my_list.append(6)  # Adding an element\n",
    "print(my_list)  # Output: [10, 2, 3, 4, 5, 6]\n",
    "n = len(my_list)  # Length of the list\n",
    "print(n)  # Output: 6"
   ],
   "id": "1c13f8491b15a4d8"
  },
  {
   "metadata": {},
   "cell_type": "markdown",
   "source": [
    "**Copy a list**:\n",
    "When assigning a list to another variable, both variables refer to the same list (shallow copy). Changes to one variable affect the other. To create a separate copy of the list, use the `copy()` method.\n"
   ],
   "id": "38ba7748cddcde80"
  },
  {
   "metadata": {},
   "cell_type": "code",
   "outputs": [
    {
     "name": "stdout",
     "output_type": "stream",
     "text": [
      "Shallow Copy\n",
      "my_list:   [1, 2, 3, 4, 5, 6]\n",
      "my_list2:  [1, 2, 3, 4, 5, 6]\n",
      "\n",
      "Deep Copy\n",
      "my_list:   [1, 2, 3, 4, 5]\n",
      "my_list2:  [1, 2, 3, 4, 5, 6]\n"
     ]
    }
   ],
   "execution_count": 24,
   "source": [
    "print(\"Shallow Copy\")\n",
    "my_list = [1, 2, 3, 4, 5]\n",
    "my_list2 = my_list  # Both variables point to the same list\n",
    "my_list2.append(6)\n",
    "\n",
    "print(\"my_list:  \",my_list)  # Output: [1, 2, 3, 4, 5, 6]\n",
    "print(\"my_list2: \",my_list2)  # Output: [1, 2, 3, 4, 5, 6]\n",
    "\n",
    "print(\"\\nDeep Copy\")\n",
    "my_list = [1, 2, 3, 4, 5]\n",
    "my_list2 = my_list.copy()  # Now my_list2 is a copy, not a reference\n",
    "my_list2.append(6)\n",
    "\n",
    "print(\"my_list:  \",my_list)  # Output: [1, 2, 3, 4, 5]\n",
    "print(\"my_list2: \",my_list2)  # Output: [1, 2, 3, 4, 5, 6]\n"
   ],
   "id": "111692acb532b4a3"
  },
  {
   "metadata": {},
   "cell_type": "markdown",
   "source": [
    "### 3) Strings\n",
    "\n",
    "Strings are sequences of characters, represented using quotes. You can perform various operations on strings, such as concatenation, slicing, and formatting. You can also access individual characters using indexing, search for substrings, and more.        "
   ],
   "id": "96542dad323fda00"
  },
  {
   "metadata": {
    "ExecuteTime": {
     "end_time": "2024-09-09T08:46:52.680818Z",
     "start_time": "2024-09-09T08:46:52.677230Z"
    }
   },
   "cell_type": "code",
   "source": [
    "# String concatenation\n",
    "str1 = \"Hello\"\n",
    "str2 = \"World\"\n",
    "str3 = str1 + \", \" + str2 + \"!\"\n",
    "print(str3)"
   ],
   "id": "546a1d6332e5000f",
   "outputs": [
    {
     "name": "stdout",
     "output_type": "stream",
     "text": [
      "Hello, World!\n"
     ]
    }
   ],
   "execution_count": 33
  },
  {
   "metadata": {
    "ExecuteTime": {
     "end_time": "2024-09-09T08:47:14.878731Z",
     "start_time": "2024-09-09T08:47:14.875415Z"
    }
   },
   "cell_type": "code",
   "source": [
    "# String slicing\n",
    "str1 = \"Hello, World!\"\n",
    "print(str1[7])  # Output: W\n",
    "print(str1[1:5])  # Output: ello"
   ],
   "id": "7ce3932c9731f09e",
   "outputs": [
    {
     "name": "stdout",
     "output_type": "stream",
     "text": [
      "W\n",
      "ello\n"
     ]
    }
   ],
   "execution_count": 34
  },
  {
   "metadata": {
    "ExecuteTime": {
     "end_time": "2024-09-09T08:49:08.595437Z",
     "start_time": "2024-09-09T08:49:08.591828Z"
    }
   },
   "cell_type": "code",
   "source": [
    "# String formatting\n",
    "str1 = \"Hello, World!\"\n",
    "# lowercase\n",
    "print(str1.lower())  # Output: hello, world!\n",
    "# UPPERCASE\n",
    "print(str1.upper())  # Output: HELLO, WORLD!\n",
    "# Capitalize\n",
    "print(str1.capitalize())  # Output: Hello, world!\n",
    "# Title\n",
    "print(str1.title())  # Output: Hello, World!\n",
    "# Replace\n",
    "print(str1.replace(\"World\", \"Alice\"))  # Output: Hello, Alice!\n",
    "# Split\n",
    "print(str1.split(\",\"))  # Output: ['Hello', ' World!']\n",
    "\n",
    "# Strip\n",
    "str2 = \"   Hello, World!   \"\n",
    "print(str2.strip())  # Output: Hello, World!\n"
   ],
   "id": "96f0f5c997fa53ed",
   "outputs": [
    {
     "name": "stdout",
     "output_type": "stream",
     "text": [
      "hello, world!\n",
      "HELLO, WORLD!\n",
      "Hello, world!\n",
      "Hello, World!\n",
      "Hello, Alice!\n",
      "['Hello', ' World!']\n",
      "Hello, World!\n"
     ]
    }
   ],
   "execution_count": 42
  },
  {
   "metadata": {
    "ExecuteTime": {
     "end_time": "2024-09-09T09:05:42.956236Z",
     "start_time": "2024-09-09T09:05:42.952678Z"
    }
   },
   "cell_type": "code",
   "source": [
    "# Find Substring: The find() method returns the index of the first occurrence of the specified value.\n",
    "\n",
    "str1 = \"Hello, World!\"\n",
    "print(str1.find(\"World\"))  # Output: 7\n",
    "\n",
    "# Count Substring: The count() method returns the number of times a specified value appears in the string.\n",
    "\n",
    "str1 = \"Hello, World!\"\n",
    "print(str1.count(\"o\"))  # Output: 2\n",
    "\n",
    "# Check Substring: The in keyword checks if a substring is present in the string.\n",
    "\n",
    "str1 = \"Hello, World!\"\n",
    "print(\"World\" in str1)  # Output: True"
   ],
   "id": "2d6bd1c802bd7a0c",
   "outputs": [
    {
     "name": "stdout",
     "output_type": "stream",
     "text": [
      "7\n",
      "2\n",
      "True\n"
     ]
    }
   ],
   "execution_count": 82
  },
  {
   "metadata": {
    "ExecuteTime": {
     "end_time": "2024-09-09T08:54:28.843524Z",
     "start_time": "2024-09-09T08:54:28.839644Z"
    }
   },
   "cell_type": "code",
   "source": [
    "# Dynamic string formatting\n",
    "\n",
    "#The curly braces {} are placeholders. The format() method replaces the placeholders with the arguments passed to the format() method.\n",
    "\n",
    "name = \"Zoe\"\n",
    "age = 25\n",
    "str1 = \"My name is {} and I am {} years old.\".format(name, age)\n",
    "print(str1)  # Output: My name is Zoe and I am 25 years old.\n",
    "\n",
    "# You can also use numbers inside the curly braces to specify the order of the arguments.\n",
    "\n",
    "str2 = \"My name is {1} and I am {0} years old.\".format(age, name)\n",
    "print(str2)  # Output: My name is Zoe and I am 25 years old.\n",
    "\n",
    "# You can also use named placeholders.\n",
    "str3 = \"My name is {person_name} and I am {person_age} years old.\".format(person_name=name, person_age=age)\n",
    "print(str3)  # Output: My name is Zoe and I am 25 years old.\n"
   ],
   "id": "868fa6ac1cd0fba2",
   "outputs": [
    {
     "name": "stdout",
     "output_type": "stream",
     "text": [
      "My name is Zoe and I am 25 years old.\n",
      "My name is Zoe and I am 25 years old.\n",
      "My name is Zoe and I am 25 years old.\n"
     ]
    }
   ],
   "execution_count": 50
  },
  {
   "metadata": {
    "ExecuteTime": {
     "end_time": "2024-09-09T08:57:38.241454Z",
     "start_time": "2024-09-09T08:57:38.236866Z"
    }
   },
   "cell_type": "code",
   "source": [
    "# f-string formatting \n",
    "# f-strings are a more recent, concise, and readable way to format strings.\n",
    "\n",
    "# f-string example 1: Digits after the decimal point  \n",
    "price = 49.958708144\n",
    "formatted_price = \"The price is ${:.2f}\".format(price)\n",
    "print(formatted_price)  # Output: The price is $49.96\n",
    "\n",
    "# f-string example 2: Using variables\n",
    "large_number = 1234567890\n",
    "formatted_number = \"The number is {:,}\".format(large_number)\n",
    "print(formatted_number)  # Output: The number is 1,234,567,890\n"
   ],
   "id": "73d2f97d714388c4",
   "outputs": [
    {
     "name": "stdout",
     "output_type": "stream",
     "text": [
      "The price is $49.96\n",
      "The number is 1,234,567,890\n",
      "Product | Price\n",
      "Item 1 | $49.95\n",
      "Item 2 | $149.50\n"
     ]
    }
   ],
   "execution_count": 58
  },
  {
   "metadata": {
    "ExecuteTime": {
     "end_time": "2024-09-09T09:01:38.349274Z",
     "start_time": "2024-09-09T09:01:38.342200Z"
    }
   },
   "cell_type": "code",
   "source": [
    "# Example 1: Simple formatting without alignment\n",
    "price1 = 49.95\n",
    "price2 = 149.50\n",
    "\n",
    "str1 = \"{} | {}\".format(\"Product\", \"Price\")\n",
    "str2 = \"{} | ${:.2f}\".format(\"Item 1\", price1)\n",
    "str3 = \"{} | ${:.2f}\".format(\"Item 2\", price2)\n",
    "\n",
    "print(str1)\n",
    "print(str2)\n",
    "print(str3)\n",
    "\n",
    "# Expected Output:\n",
    "# Product | Price\n",
    "# Item 1  | $49.95\n",
    "# Item 2  | $149.50\n",
    "\n",
    "print(\"######################\")\n",
    "\n",
    "# Example 2: Right-aligned formatting\n",
    "price1 = 49.95\n",
    "price2 = 149.50\n",
    "\n",
    "str4 = \"{:>10} | {:>10}\".format(\"Product\", \"Price\")\n",
    "str5 = \"{:>10} | ${:>9.2f}\".format(\"Item 1\", price1)\n",
    "str6 = \"{:>10} | ${:>9.2f}\".format(\"Item 2\", price2)\n",
    "\n",
    "print(str4)\n",
    "print(str5)\n",
    "print(str6)\n",
    "\n",
    "# Expected Output:\n",
    "#    Product |      Price\n",
    "#     Item 1 |     $ 49.95\n",
    "#     Item 2 |     $149.50\n",
    "\n",
    "print(\"######################\")\n",
    "\n",
    "# Example 3: Left-align product names, right-align prices with dollar signs\n",
    "price1 = 49.95\n",
    "price2 = 149.50\n",
    "\n",
    "str7 = \"{:<10} | {:>10}\".format(\"Product\", \"Price\")\n",
    "str8 = \"{:<10} | {:>10}\".format(\"Item 1\", \"${:,.2f}\".format(price1))\n",
    "str9 = \"{:<10} | {:>10}\".format(\"Item 2\", \"${:,.2f}\".format(price2))\n",
    "\n",
    "print(str7)\n",
    "print(str8)\n",
    "print(str9)\n",
    "\n",
    "# Expected Output:\n",
    "# Product    |      Price\n",
    "# Item 1     |     $49.95\n",
    "# Item 2     |    $149.50\n"
   ],
   "id": "db193fe45e52abfe",
   "outputs": [
    {
     "name": "stdout",
     "output_type": "stream",
     "text": [
      "Product | Price\n",
      "Item 1 | $49.95\n",
      "Item 2 | $149.50\n",
      "######################\n",
      "   Product |      Price\n",
      "    Item 1 | $    49.95\n",
      "    Item 2 | $   149.50\n",
      "######################\n",
      "Product    |      Price\n",
      "Item 1     |     $49.95\n",
      "Item 2     |    $149.50\n"
     ]
    }
   ],
   "execution_count": 68
  },
  {
   "metadata": {},
   "cell_type": "markdown",
   "source": [
    "### 4)If-Else Statements\n",
    "\n",
    "If-else statements are used to make decisions based on conditions. The `if` block contains the code that is executed if the condition is true. The `else` block contains the code that is executed if the condition is false.\n"
   ],
   "id": "abd93addc46e253a"
  },
  {
   "metadata": {
    "ExecuteTime": {
     "end_time": "2024-09-09T09:07:18.926983Z",
     "start_time": "2024-09-09T09:07:18.923783Z"
    }
   },
   "cell_type": "code",
   "source": [
    "# Example 1: Simple if-else statement  \n",
    "x = 10\n",
    "if x > 5:\n",
    "    print(\"x is greater than 5\")\n",
    "else:\n",
    "    print(\"x is less than or equal to 5\")"
   ],
   "id": "b35dacc4eddfcb7d",
   "outputs": [
    {
     "name": "stdout",
     "output_type": "stream",
     "text": [
      "x is greater than 5\n"
     ]
    }
   ],
   "execution_count": 84
  },
  {
   "metadata": {
    "ExecuteTime": {
     "end_time": "2024-09-09T09:07:28.503233Z",
     "start_time": "2024-09-09T09:07:28.498739Z"
    }
   },
   "cell_type": "code",
   "source": [
    "# Example 2: if-elif-else statement\n",
    "x = 10\n",
    "if x > 5:\n",
    "    print(\"x is greater than 5\")\n",
    "elif x == 5:\n",
    "    print(\"x is equal to 5\")\n",
    "else:\n",
    "    print(\"x is less than 5\")"
   ],
   "id": "fb3d4ebb7389616e",
   "outputs": [
    {
     "name": "stdout",
     "output_type": "stream",
     "text": [
      "x is greater than 5\n"
     ]
    }
   ],
   "execution_count": 85
  },
  {
   "metadata": {},
   "cell_type": "markdown",
   "source": [
    "### Loops\n",
    "\n",
    "Loops are used to execute a block of code multiple times. Python supports two types of loops: `for` loops and `while` loops."
   ],
   "id": "348a5852bb6d1ebf"
  },
  {
   "metadata": {
    "ExecuteTime": {
     "end_time": "2024-09-09T09:09:05.755439Z",
     "start_time": "2024-09-09T09:09:05.752293Z"
    }
   },
   "cell_type": "code",
   "source": [
    "# Example 1: for loop   \n",
    "\n",
    "# Print numbers from 0 to 4\n",
    "for i in range(5):\n",
    "    print(i)"
   ],
   "id": "620a08deaddb0e19",
   "outputs": [
    {
     "name": "stdout",
     "output_type": "stream",
     "text": [
      "0\n",
      "1\n",
      "2\n",
      "3\n",
      "4\n"
     ]
    }
   ],
   "execution_count": 86
  },
  {
   "metadata": {
    "ExecuteTime": {
     "end_time": "2024-09-09T09:09:29.027922Z",
     "start_time": "2024-09-09T09:09:29.023514Z"
    }
   },
   "cell_type": "code",
   "source": [
    "# Example 2: while loop\n",
    "i = 0\n",
    "while i < 5:\n",
    "    print(i)\n",
    "    i += 1"
   ],
   "id": "83d69a4a16bea6f4",
   "outputs": [
    {
     "name": "stdout",
     "output_type": "stream",
     "text": [
      "0\n",
      "1\n",
      "2\n",
      "3\n",
      "4\n"
     ]
    }
   ],
   "execution_count": 87
  },
  {
   "metadata": {
    "ExecuteTime": {
     "end_time": "2024-09-09T09:09:37.725004Z",
     "start_time": "2024-09-09T09:09:37.721Z"
    }
   },
   "cell_type": "code",
   "source": [
    "# Example 3: Nested loops\n",
    "for i in range(3):\n",
    "    for j in range(2):\n",
    "        print(i, j)"
   ],
   "id": "bd90e358748b486a",
   "outputs": [
    {
     "name": "stdout",
     "output_type": "stream",
     "text": [
      "0 0\n",
      "0 1\n",
      "1 0\n",
      "1 1\n",
      "2 0\n",
      "2 1\n"
     ]
    }
   ],
   "execution_count": 88
  },
  {
   "metadata": {
    "ExecuteTime": {
     "end_time": "2024-09-09T09:09:50.788653Z",
     "start_time": "2024-09-09T09:09:50.783218Z"
    }
   },
   "cell_type": "code",
   "source": [
    "# Example 4: Loop control statements\n",
    "# The break statement terminates the loop.\n",
    "\n",
    "for i in range(5):\n",
    "    if i == 3:\n",
    "        break\n",
    "    print(i)"
   ],
   "id": "ae7bac6b1cd6c281",
   "outputs": [
    {
     "name": "stdout",
     "output_type": "stream",
     "text": [
      "0\n",
      "1\n",
      "2\n"
     ]
    }
   ],
   "execution_count": 89
  },
  {
   "metadata": {
    "ExecuteTime": {
     "end_time": "2024-09-09T09:10:07.660291Z",
     "start_time": "2024-09-09T09:10:07.656645Z"
    }
   },
   "cell_type": "code",
   "source": [
    "# Example 5: Loop control statements\n",
    "# The continue statement skips the current iteration and continues with the next one.\n",
    "\n",
    "for i in range(5):\n",
    "    if i == 3:\n",
    "        continue\n",
    "    print(i)"
   ],
   "id": "1734fd891c7a34fd",
   "outputs": [
    {
     "name": "stdout",
     "output_type": "stream",
     "text": [
      "0\n",
      "1\n",
      "2\n",
      "4\n"
     ]
    }
   ],
   "execution_count": 90
  },
  {
   "metadata": {
    "ExecuteTime": {
     "end_time": "2024-09-09T09:12:09.382748Z",
     "start_time": "2024-09-09T09:12:09.379866Z"
    }
   },
   "cell_type": "code",
   "source": [
    "# Example 6: For-Loop over a list\n",
    "fruits = [\"apple\", \"banana\", \"cherry\"]\n",
    "for fruit in fruits:\n",
    "    print(fruit)"
   ],
   "id": "8619ad08f15df73d",
   "outputs": [
    {
     "name": "stdout",
     "output_type": "stream",
     "text": [
      "apple\n",
      "banana\n",
      "cherry\n"
     ]
    }
   ],
   "execution_count": 92
  },
  {
   "metadata": {
    "ExecuteTime": {
     "end_time": "2024-09-09T09:13:39.968005Z",
     "start_time": "2024-09-09T09:13:39.964381Z"
    }
   },
   "cell_type": "code",
   "source": [
    "# Example 7: For-Loop over a string\n",
    "for char in \"hello\":\n",
    "    print(char)"
   ],
   "id": "37cacfb192324417",
   "outputs": [
    {
     "name": "stdout",
     "output_type": "stream",
     "text": [
      "h\n",
      "e\n",
      "l\n",
      "l\n",
      "o\n"
     ]
    }
   ],
   "execution_count": 95
  },
  {
   "metadata": {
    "ExecuteTime": {
     "end_time": "2024-09-09T09:13:51.117300Z",
     "start_time": "2024-09-09T09:13:51.114112Z"
    }
   },
   "cell_type": "code",
   "source": [
    "# Example 8: For-Loop with index\n",
    "fruits = [\"apple\", \"banana\", \"cherry\"]\n",
    "for index, fruit in enumerate(fruits):\n",
    "    print(index, fruit)"
   ],
   "id": "87aadbd7cb20d5cc",
   "outputs": [
    {
     "name": "stdout",
     "output_type": "stream",
     "text": [
      "0 apple\n",
      "1 banana\n",
      "2 cherry\n"
     ]
    }
   ],
   "execution_count": 96
  },
  {
   "metadata": {
    "ExecuteTime": {
     "end_time": "2024-09-09T09:14:04.256460Z",
     "start_time": "2024-09-09T09:14:04.252513Z"
    }
   },
   "cell_type": "code",
   "source": [
    "# Example 9: Looping through a dictionary\n",
    "person = {\"name\": \"Alice\", \"age\": 25, \"city\": \"New York\"}\n",
    "for key, value in person.items():\n",
    "    print(key, value)"
   ],
   "id": "146f40c32ecf08a6",
   "outputs": [
    {
     "name": "stdout",
     "output_type": "stream",
     "text": [
      "name Alice\n",
      "age 25\n",
      "city New York\n"
     ]
    }
   ],
   "execution_count": 97
  },
  {
   "metadata": {
    "ExecuteTime": {
     "end_time": "2024-09-09T09:13:13.584186Z",
     "start_time": "2024-09-09T09:13:03.381688Z"
    }
   },
   "cell_type": "code",
   "source": [
    "# A cool tool: tqdm\n",
    "# tqdm is a library that adds a progress bar to your loops.\n",
    "# This is especially useful when working with large datasets or long-running processes.\n",
    "\n",
    "from tqdm import tqdm\n",
    "import time\n",
    "\n",
    "for i in tqdm(range(100)):\n",
    "    time.sleep(0.1)\n"
   ],
   "id": "22d2d627a1e7f9c9",
   "outputs": [
    {
     "name": "stderr",
     "output_type": "stream",
     "text": [
      "100%|██████████| 100/100 [00:10<00:00,  9.82it/s]\n"
     ]
    }
   ],
   "execution_count": 94
  },
  {
   "metadata": {},
   "cell_type": "markdown",
   "source": [
    "### Functions\n",
    "\n",
    "Functions are blocks of reusable code that perform a specific task. They allow you to break down your program into smaller, modular pieces. You can pass data, known as parameters, into a function. A function can return data as a result."
   ],
   "id": "bf311400e02d5d55"
  },
  {
   "metadata": {
    "ExecuteTime": {
     "end_time": "2024-09-09T09:15:28.710669Z",
     "start_time": "2024-09-09T09:15:28.706710Z"
    }
   },
   "cell_type": "code",
   "source": [
    "# Example 1: Simple function\n",
    "def greet():\n",
    "    print(\"Hello, World!\")\n",
    "\n",
    "greet()"
   ],
   "id": "fcebdd385abe0207",
   "outputs": [
    {
     "name": "stdout",
     "output_type": "stream",
     "text": [
      "Hello, World!\n"
     ]
    }
   ],
   "execution_count": 98
  },
  {
   "metadata": {
    "ExecuteTime": {
     "end_time": "2024-09-09T09:15:37.458614Z",
     "start_time": "2024-09-09T09:15:37.455160Z"
    }
   },
   "cell_type": "code",
   "source": [
    "# Example 2: Function with parameters\n",
    "def greet(name):\n",
    "    print(\"Hello, \" + name + \"!\")\n",
    "    \n",
    "greet(\"Alice\")"
   ],
   "id": "ec78971f2ad281ba",
   "outputs": [
    {
     "name": "stdout",
     "output_type": "stream",
     "text": [
      "Hello, Alice!\n"
     ]
    }
   ],
   "execution_count": 99
  },
  {
   "metadata": {
    "ExecuteTime": {
     "end_time": "2024-09-09T09:15:50.912495Z",
     "start_time": "2024-09-09T09:15:50.909479Z"
    }
   },
   "cell_type": "code",
   "source": [
    "# Example 3: Function with return value\n",
    "def add(a, b):\n",
    "    return a + b\n",
    "\n",
    "result = add(2, 3)\n",
    "print(result)"
   ],
   "id": "8b59f21bd7ea3413",
   "outputs": [
    {
     "name": "stdout",
     "output_type": "stream",
     "text": [
      "5\n"
     ]
    }
   ],
   "execution_count": 102
  },
  {
   "metadata": {
    "ExecuteTime": {
     "end_time": "2024-09-09T09:16:01.178626Z",
     "start_time": "2024-09-09T09:16:01.175276Z"
    }
   },
   "cell_type": "code",
   "source": [
    "# Example 4: Default parameter value\n",
    "def greet(name=\"Alice\"):\n",
    "    print(\"Hello, \" + name + \"!\")"
   ],
   "id": "b339cc325f627fb6",
   "outputs": [],
   "execution_count": 103
  },
  {
   "metadata": {
    "ExecuteTime": {
     "end_time": "2024-09-09T09:16:21.941912Z",
     "start_time": "2024-09-09T09:16:21.937897Z"
    }
   },
   "cell_type": "code",
   "source": [
    "# Example 5: Arbitrary number of arguments\n",
    "def greet(*names):\n",
    "    for name in names:\n",
    "        print(\"Hello, \" + name + \"!\")\n",
    "        \n",
    "greet(\"Alice\", \"Bob\", \"Charlie\")"
   ],
   "id": "13c60d6d9d473a6a",
   "outputs": [
    {
     "name": "stdout",
     "output_type": "stream",
     "text": [
      "Hello, Alice!\n",
      "Hello, Bob!\n",
      "Hello, Charlie!\n"
     ]
    }
   ],
   "execution_count": 105
  },
  {
   "metadata": {
    "ExecuteTime": {
     "end_time": "2024-09-09T09:21:13.536257Z",
     "start_time": "2024-09-09T09:21:13.414754Z"
    }
   },
   "cell_type": "code",
   "source": [
    "# Recursive function\n",
    "# A function that calls itself is known as a recursive function.\n",
    "\n",
    "def fibonacci(n):\n",
    "    if n <= 1:\n",
    "        return n\n",
    "    else:\n",
    "        return fibonacci(n - 1) + fibonacci(n - 2)\n",
    "\n",
    "start = time.time()\n",
    "result = fibonacci(30)\n",
    "end = time.time()\n",
    "print(result, \"Time:\", end - start)"
   ],
   "id": "8cd8ed42d7189f57",
   "outputs": [
    {
     "name": "stdout",
     "output_type": "stream",
     "text": [
      "832040 Time: 0.11751532554626465\n"
     ]
    }
   ],
   "execution_count": 134
  },
  {
   "metadata": {
    "ExecuteTime": {
     "end_time": "2024-09-09T09:22:00.076286Z",
     "start_time": "2024-09-09T09:22:00.072418Z"
    }
   },
   "cell_type": "code",
   "source": [
    "\n",
    "# Dynamic programming is a method for solving complex problems by breaking them down into simpler steps.\n",
    "# Sometimes it is not practical to use recursion because of the overhead of repeated function calls (for example fibonacci). In such cases, dynamic programming can be used to optimize the solution.\n",
    "\n",
    "def fibonacci(n):\n",
    "    fib = [0, 1]\n",
    "    for i in range(2, n + 1):\n",
    "        fib.append(fib[i - 1] + fib[i - 2])\n",
    "    return fib[n]\n",
    "\n",
    "start = time.time()\n",
    "result = fibonacci(30)\n",
    "end = time.time()\n",
    "print(result, \"Time:\", end - start)"
   ],
   "id": "1cd99907076bc236",
   "outputs": [
    {
     "name": "stdout",
     "output_type": "stream",
     "text": [
      "832040 Time: 0.0\n"
     ]
    }
   ],
   "execution_count": 136
  },
  {
   "metadata": {
    "ExecuteTime": {
     "end_time": "2024-09-09T11:27:47.529434Z",
     "start_time": "2024-09-09T11:27:47.525653Z"
    }
   },
   "cell_type": "code",
   "source": [
    "# Lambda function\n",
    "\n",
    "# A lambda function is a small anonymous function defined with the lambda keyword.\n",
    "\n",
    "# Example 1: Lambda function\n",
    "f = lambda x: x * 2\n",
    "print(f(3))"
   ],
   "id": "733b3c685d0e947c",
   "outputs": [
    {
     "name": "stdout",
     "output_type": "stream",
     "text": [
      "6\n"
     ]
    }
   ],
   "execution_count": 1
  },
  {
   "cell_type": "markdown",
   "id": "ac9c535adcb0cf6f",
   "metadata": {},
   "source": []
  }
 ],
 "metadata": {
  "kernelspec": {
   "display_name": "Python 3",
   "language": "python",
   "name": "python3"
  },
  "language_info": {
   "codemirror_mode": {
    "name": "ipython",
    "version": 2
   },
   "file_extension": ".py",
   "mimetype": "text/x-python",
   "name": "python",
   "nbconvert_exporter": "python",
   "pygments_lexer": "ipython2",
   "version": "2.7.6"
  }
 },
 "nbformat": 4,
 "nbformat_minor": 5
}
